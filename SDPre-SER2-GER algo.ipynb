{
 "cells": [
  {
   "cell_type": "code",
   "execution_count": 43,
   "id": "08807c27-333b-4bc2-b68e-c2df5cef7aea",
   "metadata": {},
   "outputs": [],
   "source": [
    "import numpy as np\n",
    "import math\n",
    "import copy\n",
    "import datetime"
   ]
  },
  {
   "cell_type": "markdown",
   "id": "bee349b9-701e-4be1-8563-4d8f282e2730",
   "metadata": {},
   "source": [
    "### Description of is_row_present:\n",
    "This function tests whether input_row (1D np array) is present as a row in input_2D_array (2D np array).\n",
    "1. If yes, the index of input_row in input_2D_array is returned.\n",
    "2. If not, -1 is returned.\n",
    "\n",
    "This function is used in the function merge_two_decompositions."
   ]
  },
  {
   "cell_type": "code",
   "execution_count": 3,
   "id": "896cb664-e4e4-49f4-9904-4816530b6295",
   "metadata": {},
   "outputs": [],
   "source": [
    "def is_row_present(input_row, input_2D_array):\n",
    "    row_num, col_num = input_2D_array.shape\n",
    "    \n",
    "    for i in range(row_num):\n",
    "        if np.array_equal(input_row, input_2D_array[i, :]):\n",
    "            return i\n",
    "    \n",
    "    return -1"
   ]
  },
  {
   "cell_type": "markdown",
   "id": "7c53cc2b-ce7b-4e42-a6f4-f4f30dc5d9ca",
   "metadata": {},
   "source": [
    "### Description of merge_two_decompositions:\n",
    "This function takes as inputs:\n",
    "1. A decomposition of some $p_{0}$-TPM $P$: x_list (a list of positive real numbers) and A_array (np array of distinct BN matrices)\n",
    "2. A decomposition of some $q_{0}$-TPM $Q$: y_list (a list of positive real numbers) and B_array (np array of distinct BN matrices)\n",
    "\n",
    "The function outputs a decomposition of the $(p_{0} + q_{0})$-TPM $P + Q$:\n",
    "1. M (the length of the merged decompositions)\n",
    "2. w_list (list of the positive weights of the merged decompositions)\n",
    "3. C_array (np array of distinct BN matrices of the merged decompositions)"
   ]
  },
  {
   "cell_type": "code",
   "execution_count": 4,
   "id": "8482f596-a976-4374-a2cd-2fc02d370b36",
   "metadata": {},
   "outputs": [],
   "source": [
    "def merge_two_decompositions(x_list, A_array, y_list, B_array):\n",
    "    C_array = copy.deepcopy(A_array)\n",
    "    w_list = copy.deepcopy(x_list)\n",
    "    M = len(w_list)\n",
    "    y_length = len(y_list)\n",
    "    \n",
    "    for i in range(y_length):\n",
    "        position = is_row_present(B_array[i, :], C_array)\n",
    "        \n",
    "        if (position == -1):\n",
    "            M += 1\n",
    "            w_list.append(y_list[i])\n",
    "            C_array = np.vstack((C_array, B_array[i, :]))\n",
    "        else:\n",
    "            w_list[position] += y_list[i]\n",
    "    \n",
    "    return M, w_list, C_array"
   ]
  },
  {
   "cell_type": "markdown",
   "id": "8b2a04b4-2ac2-4ca7-9b6d-43ead13ed5c0",
   "metadata": {},
   "source": [
    "### Description of add_up_a_decomposition\n",
    "The function takes as inputs:\n",
    "1. a decomposition (x_list, BN_matrices_array) output by SER 1, SER 2, GER (x_list is a list, whereas BN_matrices_array is a 2D np array).\n",
    "2. The dimension of the output TPM row_dim, col_dim\n",
    "\n",
    "The function then sums up (x_list, BN_matrices_array) and outputs the resulting TPM (row_dim-by-col_dim)."
   ]
  },
  {
   "cell_type": "code",
   "execution_count": 7,
   "id": "bd56615b-bd05-4880-a7e9-3c3b75d9b6fd",
   "metadata": {},
   "outputs": [],
   "source": [
    "def add_up_a_decomposition(x_list, BN_matrices_array, row_dim, col_dim):\n",
    "    output_TPM = np.zeros((row_dim, col_dim), dtype=int)\n",
    "    num_BN_matrices = len(x_list)\n",
    "    \n",
    "    for k in range(num_BN_matrices):\n",
    "        for col in range(col_dim):\n",
    "            output_TPM[BN_matrices_array[k, col], col] += x_list[k]\n",
    "    \n",
    "    return output_TPM"
   ]
  },
  {
   "cell_type": "markdown",
   "id": "edd5f36f-9acb-462a-948a-2ea6954bbd17",
   "metadata": {},
   "source": [
    "## The Division Pre-processing Algorithm (D-Pre)"
   ]
  },
  {
   "cell_type": "code",
   "execution_count": 8,
   "id": "4e411ce9-594f-449f-b53c-67b51a2e32de",
   "metadata": {},
   "outputs": [],
   "source": [
    "def division_preprocess(P, d):\n",
    "    row_num, col_num = P.shape\n",
    "    Q_tilde = np.zeros((row_num, col_num), dtype=int)\n",
    "    R_tilde = np.zeros((row_num, col_num), dtype=int)\n",
    "    \n",
    "    for row in range(row_num):\n",
    "        for col in range(col_num):\n",
    "            Q_tilde[row, col] = P[row, col] // d\n",
    "            R_tilde[row, col] = P[row, col] % d\n",
    "    \n",
    "    r_tilde = np.sum(R_tilde, axis=0)\n",
    "    r_tilde_max = np.max(r_tilde)\n",
    "    \n",
    "    for j in range(col_num):\n",
    "        i = 0\n",
    "        while (r_tilde[j] < r_tilde_max):\n",
    "            if (d * Q_tilde[i, j] < r_tilde_max - r_tilde[j]):\n",
    "                R_tilde[i, j] += d * Q_tilde[i, j]\n",
    "                r_tilde[j] += d * Q_tilde[i, j]\n",
    "                Q_tilde[i, j] = 0\n",
    "            else:\n",
    "                R_tilde[i, j] += r_tilde_max - r_tilde[j]\n",
    "                Q_tilde[i, j] -= (r_tilde_max - r_tilde[j]) // d\n",
    "                r_tilde[j] = r_tilde_max\n",
    "            i += 1\n",
    "    \n",
    "    return Q_tilde, R_tilde"
   ]
  },
  {
   "cell_type": "markdown",
   "id": "44376c01-ffe6-46de-81cf-f81ada5e67bc",
   "metadata": {},
   "source": [
    "## The Simple Entry Removal Algorithm 1 (SER 1)"
   ]
  },
  {
   "cell_type": "code",
   "execution_count": 33,
   "id": "0d717305-e2ed-4be9-9348-f940aaadf23f",
   "metadata": {},
   "outputs": [],
   "source": [
    "# This function is used in the SER 1 function.\n",
    "# residue_matrix_R is a np.ndarray.\n",
    "# PBN_row_num is the number of rows present in residue_matrix_R.\n",
    "# PBN_col_num is the number of columns present in residue_matrix_R.\n",
    "def find_smallest_nonzero_entry(residue_matrix_R, PBN_row_num, PBN_col_num):\n",
    "    row_counter = 0\n",
    "    col_counter = 0\n",
    "    while residue_matrix_R[row_counter, col_counter] == 0:\n",
    "        row_counter += 1\n",
    "    smallest_entry = residue_matrix_R[row_counter, col_counter]\n",
    "    smallest_entry_row_pos = row_counter\n",
    "    smallest_entry_col_pos = col_counter\n",
    "\n",
    "    del row_counter\n",
    "    del col_counter\n",
    "    for col_counter in range(PBN_col_num):\n",
    "        for row_counter in range(PBN_row_num):\n",
    "            current_entry = residue_matrix_R[row_counter, col_counter]\n",
    "            if (current_entry > 0) and (current_entry < smallest_entry):\n",
    "                smallest_entry = current_entry\n",
    "                smallest_entry_row_pos = row_counter\n",
    "                smallest_entry_col_pos = col_counter\n",
    "\n",
    "    return smallest_entry, smallest_entry_row_pos, smallest_entry_col_pos"
   ]
  },
  {
   "cell_type": "code",
   "execution_count": 34,
   "id": "c59aa128-7df9-433a-afb8-96a6354ea90e",
   "metadata": {},
   "outputs": [],
   "source": [
    "def SER_1(PBN_matrix_P):  # input: 2^n-by-2^n ndarray consisting of integers.\n",
    "    PBN_row_num = PBN_matrix_P.shape[0]\n",
    "    PBN_col_num = PBN_matrix_P.shape[1]\n",
    "    coefficient_list_xi = []  # the coefficients of BN matrices to be output\n",
    "    # the BN matrices to be output\n",
    "    BN_matrices_list_Ai = np.array([[-1] * PBN_col_num])  # the first row of BN_matrices_list_Ai will be\n",
    "                                                          # replaced in the first iteration of pseudocode\n",
    "                                                          # steps 1 to 4.\n",
    "                                                          \n",
    "    residue_matrix_R = PBN_matrix_P.copy()\n",
    "    k = 1  # counts the number of iterations of pseudocode Steps 1 to 4\n",
    "    chosen_entry_xi, xi_row_pos, xi_col_pos = find_smallest_nonzero_entry(residue_matrix_R, \n",
    "                                                                          PBN_row_num, PBN_col_num)\n",
    "    chosen_entry_pos_each_col = np.argmax(residue_matrix_R, axis=0, keepdims=True)\n",
    "    chosen_entry_pos_each_col[0, xi_col_pos] = xi_row_pos\n",
    "    \n",
    "    coefficient_list_xi.append(chosen_entry_xi)\n",
    "    BN_matrices_list_Ai = chosen_entry_pos_each_col\n",
    "    \n",
    "    for col_counter in range(PBN_col_num):\n",
    "        row_to_deduct = chosen_entry_pos_each_col[0, col_counter]\n",
    "        residue_matrix_R[row_to_deduct, col_counter] -= chosen_entry_xi\n",
    "    \n",
    "    zero_PBN_matrix = np.zeros((PBN_row_num, PBN_col_num), dtype=int)\n",
    "    \n",
    "    while (not np.array_equal(residue_matrix_R, zero_PBN_matrix)):\n",
    "        k += 1\n",
    "        chosen_entry_xi, xi_row_pos, xi_col_pos = find_smallest_nonzero_entry(residue_matrix_R, \n",
    "                                                                              PBN_row_num, PBN_col_num)\n",
    "        chosen_entry_pos_each_col = np.argmax(residue_matrix_R, axis=0, keepdims=True)\n",
    "        chosen_entry_pos_each_col[0, xi_col_pos] = xi_row_pos\n",
    "    \n",
    "        coefficient_list_xi.append(chosen_entry_xi)\n",
    "        BN_matrices_list_Ai = np.append(BN_matrices_list_Ai, chosen_entry_pos_each_col, axis=0)\n",
    "        \n",
    "        for col_counter in range(PBN_col_num):\n",
    "            row_to_deduct = chosen_entry_pos_each_col[0, col_counter]\n",
    "            residue_matrix_R[row_to_deduct, col_counter] -= chosen_entry_xi\n",
    "    \n",
    "    return k, coefficient_list_xi, BN_matrices_list_Ai"
   ]
  },
  {
   "cell_type": "markdown",
   "id": "6fd3b108-585a-408c-a553-acc04b4b4555",
   "metadata": {},
   "source": [
    "## The Simple Entry Removal Algorithm 2 (SER 2)"
   ]
  },
  {
   "cell_type": "code",
   "execution_count": 9,
   "id": "cab1d235-d518-4083-894d-7074c65aee05",
   "metadata": {},
   "outputs": [],
   "source": [
    "# This function is used in the SER 2 function.\n",
    "# residue_matrix_R is a np.ndarray.\n",
    "# chosen_entry_pos_each_col is a 1-by-PBN_col_sum np.ndarray.\n",
    "# PBN_col_num is the number of columns present in residue_matrix_R\n",
    "\n",
    "def choose_coefficient(residue_matrix_R, chosen_entry_pos_each_col, PBN_col_num):\n",
    "    col_counter = 0\n",
    "    chosen_entry_xi = residue_matrix_R[chosen_entry_pos_each_col[0, col_counter], col_counter]\n",
    "    \n",
    "    for col_counter in range(PBN_col_num):\n",
    "        current_entry = residue_matrix_R[chosen_entry_pos_each_col[0, col_counter], col_counter]\n",
    "        if current_entry < chosen_entry_xi:\n",
    "            chosen_entry_xi = current_entry\n",
    "    \n",
    "    return chosen_entry_xi"
   ]
  },
  {
   "cell_type": "code",
   "execution_count": 10,
   "id": "7e0abca5-a92d-4177-b3a1-908b3581e289",
   "metadata": {},
   "outputs": [],
   "source": [
    "def SER_2(PBN_matrix_P):  # input: 2^n-by-2^n ndarray consisting of integers.\n",
    "    PBN_row_num = PBN_matrix_P.shape[0]\n",
    "    PBN_col_num = PBN_matrix_P.shape[1]\n",
    "    coefficient_list_xi = []  # the coefficients of BN matrices to be output\n",
    "    # the BN matrices to be output\n",
    "    BN_matrices_list_Ai = np.array([[-1] * PBN_col_num])  # the first row of BN_matrices_list_Ai will be\n",
    "                                                          # replaced in the first iteration of pseudocode\n",
    "                                                          # steps 1 to 4.\n",
    "                                                          \n",
    "    residue_matrix_R = PBN_matrix_P.copy()\n",
    "    k = 1  # counts the number of iterations of pseudocode Steps 1 to 4\n",
    "\n",
    "    chosen_entry_pos_each_col = np.argmax(residue_matrix_R, axis=0, keepdims=True)\n",
    "    chosen_entry_xi = choose_coefficient(residue_matrix_R, chosen_entry_pos_each_col, PBN_col_num)\n",
    "    \n",
    "    coefficient_list_xi.append(chosen_entry_xi)\n",
    "    BN_matrices_list_Ai = chosen_entry_pos_each_col\n",
    "    \n",
    "    for col_counter in range(PBN_col_num):\n",
    "        row_to_deduct = chosen_entry_pos_each_col[0, col_counter]\n",
    "        residue_matrix_R[row_to_deduct, col_counter] -= chosen_entry_xi\n",
    "    \n",
    "    zero_PBN_matrix = np.zeros((PBN_row_num, PBN_col_num), dtype=int)\n",
    "    \n",
    "    while (not np.array_equal(residue_matrix_R, zero_PBN_matrix)):\n",
    "        k += 1\n",
    "        chosen_entry_pos_each_col = np.argmax(residue_matrix_R, axis=0, keepdims=True)\n",
    "        chosen_entry_xi = choose_coefficient(residue_matrix_R, chosen_entry_pos_each_col, PBN_col_num)\n",
    "    \n",
    "        coefficient_list_xi.append(chosen_entry_xi)\n",
    "        BN_matrices_list_Ai = np.append(BN_matrices_list_Ai, chosen_entry_pos_each_col, axis=0)\n",
    "        \n",
    "        for col_counter in range(PBN_col_num):\n",
    "            row_to_deduct = chosen_entry_pos_each_col[0, col_counter]\n",
    "            residue_matrix_R[row_to_deduct, col_counter] -= chosen_entry_xi\n",
    "    \n",
    "    return k, coefficient_list_xi, BN_matrices_list_Ai"
   ]
  },
  {
   "cell_type": "markdown",
   "id": "856e0045-b3d2-455c-9c13-869c9aed8f3a",
   "metadata": {},
   "source": [
    "## The Greedy Entry Removal Algorithm (GER)"
   ]
  },
  {
   "cell_type": "code",
   "execution_count": 11,
   "id": "ba1e3c56-4211-47ec-8a1e-d58209770bf3",
   "metadata": {},
   "outputs": [],
   "source": [
    "# The input first_B_vals_of_K of this function is a 1D numpy array of size\n",
    "# (upper_bound_B + 1), and the entry at index zero of this array is to be ignored.\n",
    "# The output of this function is a list.\n",
    "def find_most_occurred_entries(first_B_vals_of_K, upper_bound_B):\n",
    "    most_occurred_entries_v = []\n",
    "    greatest_occurrence = -1\n",
    "    \n",
    "    for v in range(1, upper_bound_B + 1):\n",
    "        if first_B_vals_of_K[v] > greatest_occurrence:\n",
    "            greatest_occurrence = first_B_vals_of_K[v]\n",
    "            most_occurred_entries_v = [v]\n",
    "        elif first_B_vals_of_K[v] == greatest_occurrence:\n",
    "            most_occurred_entries_v.append(v)\n",
    "    \n",
    "    return most_occurred_entries_v"
   ]
  },
  {
   "cell_type": "code",
   "execution_count": 12,
   "id": "c4a9048d-8488-4771-8687-15c230c33032",
   "metadata": {},
   "outputs": [],
   "source": [
    "def find_the_position_of_val_in_specific_col(residue_matrix_R, R_row_num, col, val):\n",
    "    for row_counter in range(R_row_num):\n",
    "        if val == residue_matrix_R[row_counter, col]:\n",
    "            return row_counter"
   ]
  },
  {
   "cell_type": "code",
   "execution_count": 13,
   "id": "0a126f8a-16f1-477b-904d-5b767e46a5d4",
   "metadata": {},
   "outputs": [],
   "source": [
    "def all_entry_vals_greater_than_val(residue_matrix_R, R_row_num, col, val):\n",
    "    output_list_of_entry_vals = []\n",
    "    \n",
    "    for row_counter in range(R_row_num):\n",
    "        if residue_matrix_R[row_counter, col] > val:\n",
    "            output_list_of_entry_vals.append(residue_matrix_R[row_counter, col])\n",
    "    \n",
    "    return output_list_of_entry_vals"
   ]
  },
  {
   "cell_type": "code",
   "execution_count": 14,
   "id": "8527e504-99c5-43cc-b74c-3fdb1b8ff476",
   "metadata": {},
   "outputs": [],
   "source": [
    "# cumulative_occurrence_array is an array of size (1 + max_entry_M). The entry\n",
    "# at index 0 is useless and should never be used.\n",
    "def compute_selection_score(cumulative_occurrence_array, max_entry_M, score_parameter_z):\n",
    "    selection_score = 0\n",
    "    \n",
    "    for v in range(1, max_entry_M + 1):\n",
    "        if cumulative_occurrence_array[v] > 0:\n",
    "            selection_score += score_parameter_z ** cumulative_occurrence_array[v]\n",
    "    \n",
    "    return selection_score"
   ]
  },
  {
   "cell_type": "code",
   "execution_count": 15,
   "id": "e6b688d6-95c0-48f1-bdc6-818c76735022",
   "metadata": {},
   "outputs": [],
   "source": [
    "def choose_most_favourable_v_star(most_occurred_entries_v, selection_score_u_for_each_v):\n",
    "    list_of_entries_with_max_score = []\n",
    "    max_score_found_so_far = -1\n",
    "    \n",
    "    for v in most_occurred_entries_v:\n",
    "        if max_score_found_so_far < selection_score_u_for_each_v[v]:\n",
    "            max_score_found_so_far = selection_score_u_for_each_v[v]\n",
    "            list_of_entries_with_max_score = [v]\n",
    "        elif max_score_found_so_far == selection_score_u_for_each_v[v]:\n",
    "            list_of_entries_with_max_score.append(v)\n",
    "    \n",
    "    return max(list_of_entries_with_max_score)"
   ]
  },
  {
   "cell_type": "code",
   "execution_count": 16,
   "id": "a57555bd-2159-4b32-a1c5-1e9594abe8fc",
   "metadata": {},
   "outputs": [],
   "source": [
    "def GER_entry_choosing_procedure(residue_matrix_R, score_parameter_z):\n",
    "    R_row_num = residue_matrix_R.shape[0]\n",
    "    R_col_num = residue_matrix_R.shape[1]\n",
    "    chosen_entry_pos_each_col = np.array([[-R_row_num - 1] * R_col_num])\n",
    "    \n",
    "    # Step 1\n",
    "    max_entry_M = np.amax(residue_matrix_R)\n",
    "    \n",
    "    # Step 2\n",
    "    # the col dimension should be max_entry_M + 1 because index starts at 0 but not 1.\n",
    "    occurrence_count_Li = np.zeros((R_col_num, 1 + max_entry_M), dtype=int)\n",
    "    occurrence_indication_Ki = np.zeros((R_col_num, 1 + max_entry_M), dtype=int)\n",
    "    \n",
    "    for col_counter in range(R_col_num):\n",
    "        for row_counter in range(R_row_num):\n",
    "            entry_val_a = residue_matrix_R[row_counter, col_counter]\n",
    "            if entry_val_a > 0:\n",
    "                occurrence_indication_Ki[col_counter, entry_val_a] = 1\n",
    "                occurrence_count_Li[col_counter, entry_val_a] += 1\n",
    "    \n",
    "    # Step 3\n",
    "    max_entry_each_col_Mi = np.amax(residue_matrix_R, axis=0)\n",
    "    upper_bound_B = np.amin(max_entry_each_col_Mi)\n",
    "    \n",
    "    # Step 4\n",
    "    occurrence_all_columns_K = np.sum(occurrence_indication_Ki, axis=0)\n",
    "    \n",
    "    # Step 5\n",
    "    first_B_vals_of_K = occurrence_all_columns_K[0:upper_bound_B + 1] # the value at index 0 should be ignored.\n",
    "    most_occurred_entries_v = find_most_occurred_entries(first_B_vals_of_K, upper_bound_B)\n",
    "    # most_occurred_entries_v is a list.\n",
    "    \n",
    "    # Step 6\n",
    "    chosen_entry_pos_each_col_for_each_v = {}\n",
    "    indicator_array_for_selected_columns_for_each_v = {}\n",
    "    occurrence_count_Li_for_each_v = {}\n",
    "    occurrence_indication_Ki_for_each_v = {}\n",
    "    cumulative_occurrence_indication_Ktoj_cumu_for_each_v = {}\n",
    "    selection_score_u_for_each_v = {}\n",
    "    \n",
    "    for v in most_occurred_entries_v:\n",
    "        chosen_entry_pos_each_col_for_each_v[v] = np.array([[-R_row_num - 1] * R_col_num])\n",
    "        indicator_array_for_selected_columns_for_each_v[v] = np.zeros(R_col_num, dtype=int)\n",
    "        occurrence_count_Li_for_each_v[v] = occurrence_count_Li.copy()\n",
    "        occurrence_indication_Ki_for_each_v[v] = occurrence_indication_Ki.copy()\n",
    "        cumulative_occurrence_indication_Ktoj_cumu_for_each_v[v] = np.zeros(1 + max_entry_M)\n",
    "    \n",
    "    for v in most_occurred_entries_v:\n",
    "        for col_counter_i in range(R_col_num):\n",
    "            if occurrence_indication_Ki_for_each_v[v][col_counter_i, v] == 1:\n",
    "                q = find_the_position_of_val_in_specific_col(residue_matrix_R, R_row_num, col_counter_i, v)\n",
    "                chosen_entry_pos_each_col_for_each_v[v][0, col_counter_i] = q\n",
    "                indicator_array_for_selected_columns_for_each_v[v][col_counter_i] = 1\n",
    "                \n",
    "                occurrence_count_Li_for_each_v[v][col_counter_i, v] -= 1\n",
    "                if occurrence_count_Li_for_each_v[v][col_counter_i, v] == 0:\n",
    "                    occurrence_indication_Ki_for_each_v[v][col_counter_i, v] = 0\n",
    "                cumulative_occurrence_indication_Ktoj_cumu_for_each_v[v] += \\\n",
    "                occurrence_indication_Ki_for_each_v[v][col_counter_i, :]\n",
    "    \n",
    "        for col_counter_i in range(R_col_num):\n",
    "            if indicator_array_for_selected_columns_for_each_v[v][col_counter_i] == 0:\n",
    "                list_of_candidate_entry_vals = \\\n",
    "                all_entry_vals_greater_than_val(residue_matrix_R, R_row_num, col_counter_i, v)\n",
    "                \n",
    "                occurrences_in_cumulative_Ktoj_cumu = {}\n",
    "                for val in list_of_candidate_entry_vals:\n",
    "                    occurrences_in_cumulative_Ktoj_cumu[val] = \\\n",
    "                    cumulative_occurrence_indication_Ktoj_cumu_for_each_v[v][val - v]\n",
    "            \n",
    "                greatest_occurrence = -1\n",
    "                entry_with_greatest_occurrence = -1\n",
    "            \n",
    "                for val in list_of_candidate_entry_vals:\n",
    "                    if greatest_occurrence < occurrences_in_cumulative_Ktoj_cumu[val]:\n",
    "                        greatest_occurrence = occurrences_in_cumulative_Ktoj_cumu[val]\n",
    "                        entry_with_greatest_occurrence = val\n",
    "                \n",
    "                chosen_entry_pos_each_col_for_each_v[v][0, col_counter_i] = \\\n",
    "                find_the_position_of_val_in_specific_col(residue_matrix_R, R_row_num, \n",
    "                                                         col_counter_i, entry_with_greatest_occurrence)\n",
    "                \n",
    "                indicator_array_for_selected_columns_for_each_v[v][col_counter_i] = 1\n",
    "                \n",
    "                occurrence_count_Li_for_each_v[v][col_counter_i, entry_with_greatest_occurrence] -= 1\n",
    "                if occurrence_count_Li_for_each_v[v][col_counter_i, entry_with_greatest_occurrence] == 0:\n",
    "                    occurrence_indication_Ki_for_each_v[v][col_counter_i, entry_with_greatest_occurrence] = 0\n",
    "                \n",
    "                occurrence_count_Li_for_each_v[v][col_counter_i, entry_with_greatest_occurrence - v] += 1\n",
    "                if occurrence_count_Li_for_each_v[v][col_counter_i, entry_with_greatest_occurrence - v] == 1:\n",
    "                    occurrence_indication_Ki_for_each_v[v][col_counter_i, \n",
    "                                                           entry_with_greatest_occurrence - v] = 1\n",
    "                \n",
    "                cumulative_occurrence_indication_Ktoj_cumu_for_each_v[v] += \\\n",
    "                occurrence_indication_Ki_for_each_v[v][col_counter_i, :]\n",
    "        \n",
    "        selection_score_u_for_each_v[v] = \\\n",
    "        compute_selection_score(cumulative_occurrence_indication_Ktoj_cumu_for_each_v[v], \n",
    "                                max_entry_M, score_parameter_z)\n",
    "    \n",
    "    # step 7\n",
    "    most_favourable_v_star = \\\n",
    "    choose_most_favourable_v_star(most_occurred_entries_v, selection_score_u_for_each_v)\n",
    "    \n",
    "    chosen_entry_xi = most_favourable_v_star\n",
    "    chosen_entry_pos_each_col = chosen_entry_pos_each_col_for_each_v[most_favourable_v_star]\n",
    "                \n",
    "    return chosen_entry_xi, chosen_entry_pos_each_col\n",
    "    # chosen_entry_xi is of type int; chosen_entry_pos_each_col is a 1-by-PBN_col_num 2D numpy ndarray."
   ]
  },
  {
   "cell_type": "code",
   "execution_count": 17,
   "id": "cee838b8-5d55-4d69-8469-636e0a215226",
   "metadata": {},
   "outputs": [],
   "source": [
    "def GER(PBN_matrix_P, score_parameter_z):  # input: 2^n-by-2^n ndarray consisting of integers.\n",
    "    PBN_row_num = PBN_matrix_P.shape[0]\n",
    "    PBN_col_num = PBN_matrix_P.shape[1]\n",
    "    coefficient_list_xi = []  # the coefficients of BN matrices to be output\n",
    "    # the BN matrices to be output\n",
    "    BN_matrices_list_Ai = np.array([[-1] * PBN_col_num])  # the first row of BN_matrices_list_Ai will be\n",
    "                                                          # replaced in the first iteration of pseudocode\n",
    "                                                          # steps 1 to 4.\n",
    "                                                          \n",
    "    residue_matrix_R = PBN_matrix_P.copy()\n",
    "    k = 1  # counts the number of iterations of pseudocode Steps 1 to 4\n",
    "    chosen_entry_xi, chosen_entry_pos_each_col = \\\n",
    "    GER_entry_choosing_procedure(residue_matrix_R, score_parameter_z)\n",
    "    # chosen_entry_xi is of type int; chosen_entry_pos_each_col is a 1-by-PBN_col_num 2D numpy ndarray.\n",
    "    \n",
    "    coefficient_list_xi.append(chosen_entry_xi)\n",
    "    BN_matrices_list_Ai = chosen_entry_pos_each_col\n",
    "    \n",
    "    for col_counter in range(PBN_col_num):\n",
    "        row_to_deduct = chosen_entry_pos_each_col[0, col_counter]\n",
    "        residue_matrix_R[row_to_deduct, col_counter] -= chosen_entry_xi\n",
    "    \n",
    "    zero_PBN_matrix = np.zeros((PBN_row_num, PBN_col_num), dtype=int)\n",
    "    \n",
    "    while (not np.array_equal(residue_matrix_R, zero_PBN_matrix)):\n",
    "        k += 1\n",
    "        chosen_entry_xi, chosen_entry_pos_each_col = \\\n",
    "        GER_entry_choosing_procedure(residue_matrix_R,  score_parameter_z)\n",
    "        # chosen_entry_xi is of type int; chosen_entry_pos_each_col is a 1-by-PBN_col_num 2D numpy ndarray.\n",
    "    \n",
    "        coefficient_list_xi.append(chosen_entry_xi)\n",
    "        BN_matrices_list_Ai = np.append(BN_matrices_list_Ai, chosen_entry_pos_each_col, axis=0)\n",
    "        \n",
    "        for col_counter in range(PBN_col_num):\n",
    "            row_to_deduct = chosen_entry_pos_each_col[0, col_counter]\n",
    "            residue_matrix_R[row_to_deduct, col_counter] -= chosen_entry_xi\n",
    "    \n",
    "    return k, coefficient_list_xi, BN_matrices_list_Ai"
   ]
  },
  {
   "cell_type": "markdown",
   "id": "65a35548-5cd2-4db7-a3da-e2415f35ed7a",
   "metadata": {},
   "source": [
    "## The Single-DPre-SER2-GER algorithm (SDS2G)"
   ]
  },
  {
   "cell_type": "code",
   "execution_count": 18,
   "id": "c3925c13-8e75-42a1-af3e-483caedf7ec1",
   "metadata": {},
   "outputs": [],
   "source": [
    "def SDS2G(P, d_low, d_high, z):\n",
    "    row_num, col_num = P.shape\n",
    "    zero_matrix = np.zeros((row_num, col_num), dtype=int)\n",
    "    K = math.inf\n",
    "    x_list = []\n",
    "    A_array = []\n",
    "    optimal_d = 0\n",
    "    Q_tilde_optimal_algo = \"\"\n",
    "    R_tilde_optimal_algo = \"\"\n",
    "    \n",
    "    for d in range(d_low, d_high + 1):\n",
    "        Q_tilde, R_tilde = division_preprocess(P, d)\n",
    "        \n",
    "        if ((not np.array_equal(Q_tilde, zero_matrix)) and (not np.array_equal(R_tilde, zero_matrix))):\n",
    "            _, Q_tilde_x_list_SER2, Q_tilde_BNs_SER2 = SER_2(Q_tilde)\n",
    "            _, Q_tilde_x_list_GER, Q_tilde_BNs_GER = GER(Q_tilde, z)\n",
    "            _, R_tilde_x_list_SER2, R_tilde_BNs_SER2 = SER_2(R_tilde)\n",
    "            _, R_tilde_x_list_GER, R_tilde_BNs_GER = GER(R_tilde, z)\n",
    "            \n",
    "            Q_tilde_x_list_SER2 = [i*d for i in Q_tilde_x_list_SER2]\n",
    "            Q_tilde_x_list_GER = [i*d for i in Q_tilde_x_list_GER]\n",
    "            \n",
    "            merged_length, merged_x_list, merged_BNs =\\\n",
    "            merge_two_decompositions(Q_tilde_x_list_SER2, Q_tilde_BNs_SER2,\n",
    "                                     R_tilde_x_list_SER2, R_tilde_BNs_SER2)\n",
    "            if (merged_length < K):\n",
    "                K = merged_length\n",
    "                x_list = merged_x_list\n",
    "                A_array = merged_BNs\n",
    "                optimal_d = d\n",
    "                Q_tilde_optimal_algo = \"SER 2\"\n",
    "                R_tilde_optimal_algo = \"SER 2\"\n",
    "                \n",
    "            merged_length, merged_x_list, merged_BNs =\\\n",
    "            merge_two_decompositions(Q_tilde_x_list_SER2, Q_tilde_BNs_SER2,\n",
    "                                     R_tilde_x_list_GER, R_tilde_BNs_GER)\n",
    "            if (merged_length < K):\n",
    "                K = merged_length\n",
    "                x_list = merged_x_list\n",
    "                A_array = merged_BNs\n",
    "                optimal_d = d\n",
    "                Q_tilde_optimal_algo = \"SER 2\"\n",
    "                R_tilde_optimal_algo = \"GER\"\n",
    "                \n",
    "            merged_length, merged_x_list, merged_BNs =\\\n",
    "            merge_two_decompositions(Q_tilde_x_list_GER, Q_tilde_BNs_GER,\n",
    "                                     R_tilde_x_list_SER2, R_tilde_BNs_SER2)\n",
    "            if (merged_length < K):\n",
    "                K = merged_length\n",
    "                x_list = merged_x_list\n",
    "                A_array = merged_BNs\n",
    "                optimal_d = d\n",
    "                Q_tilde_optimal_algo = \"GER\"\n",
    "                R_tilde_optimal_algo = \"SER 2\"\n",
    "            \n",
    "            merged_length, merged_x_list, merged_BNs =\\\n",
    "            merge_two_decompositions(Q_tilde_x_list_GER, Q_tilde_BNs_GER,\n",
    "                                     R_tilde_x_list_GER, R_tilde_BNs_GER)\n",
    "            if (merged_length < K):\n",
    "                K = merged_length\n",
    "                x_list = merged_x_list\n",
    "                A_array = merged_BNs\n",
    "                optimal_d = d\n",
    "                Q_tilde_optimal_algo = \"GER\"\n",
    "                R_tilde_optimal_algo = \"GER\"\n",
    "    \n",
    "    return K, x_list, A_array, optimal_d, Q_tilde_optimal_algo, R_tilde_optimal_algo"
   ]
  },
  {
   "cell_type": "markdown",
   "id": "ee85afc3-b602-439a-afb6-959a45ce905c",
   "metadata": {},
   "source": [
    "## The input TPMs we are going to test"
   ]
  },
  {
   "cell_type": "markdown",
   "id": "f69211ef-8ca9-4f4d-b09d-17c07d23ff85",
   "metadata": {},
   "source": [
    "### $P_{1}$"
   ]
  },
  {
   "cell_type": "code",
   "execution_count": 19,
   "id": "e8a05d99-9467-4165-9c58-7e1b343978f9",
   "metadata": {},
   "outputs": [],
   "source": [
    "P1 = np.array([[1599, 2501, 1271, 1964, 2501,    0,    0,  242],\n",
    "               [ 184, 1618, 1906,    0,    0, 1906, 1308, 2501],\n",
    "               [1308,    0,  224,  198,  173, 2494, 2469, 1895],\n",
    "               [   0, 1308,    0, 1599, 1906, 1271, 2494, 2520],\n",
    "               [   0,  198, 2494, 2480, 1290, 1567,    0, 1578],\n",
    "               [2494, 2480,    0,    0, 1592, 2538, 1927, 1264],\n",
    "               [1895,    0, 2538, 2469, 2538,  224, 1578,    0],\n",
    "               [2520, 1895, 1567, 1290,    0,    0,  224,    0]])"
   ]
  },
  {
   "cell_type": "markdown",
   "id": "aad00041-f666-4c16-bf38-9cafe6663db5",
   "metadata": {},
   "source": [
    "### $P_{2}$"
   ]
  },
  {
   "cell_type": "code",
   "execution_count": 20,
   "id": "983a540d-5429-4314-a6c3-abf297ca4c92",
   "metadata": {},
   "outputs": [],
   "source": [
    "P2 = np.array([[2154, 2220,    0, 3741, 3214, 4677, 2208, 4640],\n",
    "               [3208, 3183, 3209, 3440,  577, 8883, 8826,  351],\n",
    "               [ 577, 9424, 8908, 2222, 8875, 3225, 3208, 8833],\n",
    "               [  30, 3420,  400,  400,   19, 3402, 3420, 2192],\n",
    "               [8859,    0,  584,    0, 2177,  369,  358, 3225],\n",
    "               [4652,  389, 2177, 4684, 3397, 2154,  572,  609],\n",
    "               [3451, 4684, 3397,    0, 4678,  610, 4678,   50],\n",
    "               [ 389,    0, 4645, 8833,  383,    0,   50, 3420]])"
   ]
  },
  {
   "cell_type": "markdown",
   "id": "552f4b9f-537c-476d-82e0-8b8e0119ab2f",
   "metadata": {},
   "source": [
    "### $P_{5}$ ($Q_{1}$)"
   ]
  },
  {
   "cell_type": "code",
   "execution_count": 21,
   "id": "c69f85e2-12bc-47e1-bbfd-0d37a569f387",
   "metadata": {},
   "outputs": [],
   "source": [
    "Q1 = np.array([[2810,    0, 2080, 2676,  782,    0, 1840, 1832, 1981,  685, 1164,\n",
    "                   0, 2806, 1824,    0,  331],\n",
    "               [2660,    0, 1172, 2030,    0, 1175, 1219, 2886, 2061,    0, 2665,\n",
    "                1607, 1255,  452,  999,    0],\n",
    "               [   0, 2080, 1205,    0, 2825, 1172, 1007, 2649,  999, 2597, 1607,\n",
    "                   0, 1180,    0, 1820, 2000],\n",
    "               [   0, 2690,    0, 2597, 1156, 1112, 2495, 1205,    0,    0, 1236,\n",
    "                 661, 2762, 1175, 2495, 1989],\n",
    "               [1277,    0,  350, 1915,    0,  339, 1521,    0,    0, 1172, 1832,\n",
    "                2080, 1989,    0, 2044,    0],\n",
    "               [2511, 1879,    0,    0, 1236,    0,  669,    0, 1879, 2721, 2841,\n",
    "                 355,    0, 1490, 1502, 1219],\n",
    "               [1071, 2500, 2810,    0, 2030,  724,    0,  452,  685, 2810, 2080,\n",
    "                2704, 1505,  710,    0, 1277],\n",
    "               [2030, 1175, 2597, 1160, 1820, 1521, 1255, 1985, 1191,    0,  710,\n",
    "                1832,    0,    0,  331,    0],\n",
    "               [ 347, 1112,  696,  724, 2657, 1915, 2855, 1505, 2480, 1521, 1010,\n",
    "                   0,    0, 2905, 2676, 1071],\n",
    "               [1981,    0,  991,  331,    0, 2556, 2645, 2016, 1505, 1989,    0,\n",
    "                1175, 2030, 1981, 1180, 2676],\n",
    "               [1494, 1236, 2044, 2830,  339, 2830, 1981,  760, 2657, 1040, 2480,\n",
    "                2061, 2539, 2657,  741, 1915],\n",
    "               [ 724, 2822, 2649,  999, 1521,    0,  411,    0,    0, 1835,    0,\n",
    "                1040,    0, 2500,    0,    0],\n",
    "               [1255,  661,    0,    0,    0, 2641,    0, 1156,  452, 1219,  331,\n",
    "                1160, 1026, 1191, 1255, 1502],\n",
    "               [   0, 1521, 1566, 1997, 1015, 1985,    0, 2500, 2905, 1981, 2044,\n",
    "                2511,  335, 2061, 2927,  685],\n",
    "               [   0,  339, 1840, 1175, 2539, 2030, 2102,    0,    0,    0,    0,\n",
    "                2814, 1832,    0, 2030, 2810],\n",
    "               [1840, 1985,    0, 1566, 2080,    0,    0, 1054, 1205,  430,    0,\n",
    "                   0,  741, 1054,    0, 2525]])"
   ]
  },
  {
   "cell_type": "markdown",
   "id": "008dd6f9-8a75-4770-86b2-b55ba04723bb",
   "metadata": {},
   "source": [
    "### $P_{6}$ ($Q_{2}$)"
   ]
  },
  {
   "cell_type": "code",
   "execution_count": 22,
   "id": "24b8cb82-d087-4b5d-9eea-637eaf59bfa7",
   "metadata": {},
   "outputs": [],
   "source": [
    "Q2 = np.array([[    0,  5750, 13587,  3407, 13616, 18379,     0, 12038, 13574,\n",
    "                13566,  3217,  6668,     0, 18387, 13577,  4819],\n",
    "               [ 4813,  9470,  2153,  3260,  1660, 13992,  3352, 18385,  2137,\n",
    "                  829,  3751,  1617,  7117,   806,  3325,   143],\n",
    "               [  143,  4590,  3334,  3769,  9511, 15837, 18533,  2269,  2292,\n",
    "                11971, 13597,  2003,     0,  3733,  6668,     0],\n",
    "               [15173,  4851,   825,  9453,  4833,  2311,  4838,  6683,  2279,\n",
    "                 3734,  3343,  2271,  9601,  4789,  2262,  6658],\n",
    "               [  844,     0,  2279, 14398,  2272,  4797,  4555,  2271, 15305,\n",
    "                 2059,  4788,  2128, 13593,  2272,  2004,  2178],\n",
    "               [ 3792, 11989, 11978,   154,  2270,  9461,  8877,   158,  4799,\n",
    "                 6658,  6695,  2325,  2055,  1646, 12038,  3788],\n",
    "               [ 2282, 13567,  6695,     0,   816,     0,  3193,  1607, 18422,\n",
    "                 4856, 18362,  3755,  4852,  2149,  3755,  2306],\n",
    "               [ 3334,   197,  1996,  2012, 12003,   134,     0,  3213,  3213,\n",
    "                 2288,  2045, 18387,  3263, 11995,  9453,  2028],\n",
    "               [13574,  3202,  1664, 14256,  1995,  3370,     0,   843,  1673,\n",
    "                  158,  1605,  9468, 13576,  2288,  4821, 11995],\n",
    "               [ 1627, 20507, 18404, 18381,  3326,  1664, 17301,  3725,  9476,\n",
    "                 1646,  9453,  3201,  2139,  3237,  3237,  3352],\n",
    "               [ 6683,     0,  3256,  3907,  3213,  3732,  9488, 13630,   178,\n",
    "                 3203, 11981, 11971,     0,   201,  2282,     0],\n",
    "               [11731,  3396,  2294,     0, 18381,   862,   816,  2045,  7512,\n",
    "                 2279,  2294,  3336,  6651, 13630,   862,  4017],\n",
    "               [ 2146,  1629,  9474,     0,  6681,  3213, 12043,  4815,  2020,\n",
    "                18399,   799,   160,  3067,  2005,  1646, 11040],\n",
    "               [ 2045,  7457,  4799,  6661,   143,     0,  2005,  9461,     0,\n",
    "                 9476,  2325,  4856,     0,  3356, 18381,  2272],\n",
    "               [18418,     0,   143,  6947,  2153,  2192,     0,  2128,     0,\n",
    "                 2149,  2196,   848,  2306,  9443,   141, 13587],\n",
    "               [    0,     0,  3724,     0,  3732,  6661,  1604,  3334,  3725,\n",
    "                 3334,   154, 13611, 18385,  6668,  2153, 18422]])"
   ]
  },
  {
   "cell_type": "markdown",
   "id": "47cb8faa-c725-457a-9cd4-ba8c8edbe3e4",
   "metadata": {},
   "source": [
    "# Numerical Experiments (SDS2G)"
   ]
  },
  {
   "cell_type": "markdown",
   "id": "6b141d33-4af6-4672-80e4-46c017389c4e",
   "metadata": {},
   "source": [
    "### $P_{1}$"
   ]
  },
  {
   "cell_type": "code",
   "execution_count": 44,
   "id": "1953a21a-4f55-42fe-bbe7-d9274842be78",
   "metadata": {},
   "outputs": [
    {
     "name": "stdout",
     "output_type": "stream",
     "text": [
      "12\n",
      "[2460, 2460, 1886, 1558, 1230, 164, 78, 60, 41, 34, 20, 9]\n",
      "[[5 0 4 4 0 2 2 1]\n",
      " [7 5 6 6 6 5 3 3]\n",
      " [6 7 1 0 3 1 5 2]\n",
      " [0 1 7 3 5 4 6 4]\n",
      " [2 3 0 7 4 3 1 5]\n",
      " [1 4 2 2 2 6 7 0]\n",
      " [2 3 6 0 6 5 1 0]\n",
      " [7 1 2 7 4 6 7 3]\n",
      " [0 0 0 3 0 3 5 1]\n",
      " [5 4 4 2 5 2 3 5]\n",
      " [1 5 1 4 3 1 6 4]\n",
      " [6 7 7 6 2 4 2 2]]\n",
      "82\n",
      "SER 2\n",
      "SER 2\n",
      "0:00:02.977563\n"
     ]
    }
   ],
   "source": [
    "P = P1\n",
    "d_low = 30\n",
    "d_high = 200\n",
    "z = 10\n",
    "\n",
    "time_before_execution = datetime.datetime.now()\n",
    "K, x_list, A_array, optimal_d, Q_tilde_optimal_algo, R_tilde_optimal_algo = SDS2G(P, d_low, d_high, z)\n",
    "time_after_execution = datetime.datetime.now()\n",
    "\n",
    "execution_duration = time_after_execution - time_before_execution\n",
    "\n",
    "print(K)\n",
    "print(x_list)\n",
    "print(A_array)\n",
    "print(optimal_d)\n",
    "print(Q_tilde_optimal_algo)\n",
    "print(R_tilde_optimal_algo)\n",
    "print(execution_duration)"
   ]
  },
  {
   "cell_type": "code",
   "execution_count": 35,
   "id": "2b129fd5-4252-4c4a-930b-e00413e48d3a",
   "metadata": {},
   "outputs": [
    {
     "data": {
      "text/plain": [
       "array([[ True,  True,  True,  True,  True,  True,  True,  True],\n",
       "       [ True,  True,  True,  True,  True,  True,  True,  True],\n",
       "       [ True,  True,  True,  True,  True,  True,  True,  True],\n",
       "       [ True,  True,  True,  True,  True,  True,  True,  True],\n",
       "       [ True,  True,  True,  True,  True,  True,  True,  True],\n",
       "       [ True,  True,  True,  True,  True,  True,  True,  True],\n",
       "       [ True,  True,  True,  True,  True,  True,  True,  True],\n",
       "       [ True,  True,  True,  True,  True,  True,  True,  True]])"
      ]
     },
     "execution_count": 35,
     "metadata": {},
     "output_type": "execute_result"
    }
   ],
   "source": [
    "row_dim = 8\n",
    "col_dim = 8\n",
    "\n",
    "P1 == add_up_a_decomposition(x_list, A_array, row_dim, col_dim)"
   ]
  },
  {
   "cell_type": "markdown",
   "id": "d7cdc99a-2e7a-429d-9f3c-65739775bf07",
   "metadata": {},
   "source": [
    "### $P_{2}$"
   ]
  },
  {
   "cell_type": "code",
   "execution_count": 46,
   "id": "db9f7627-980d-4420-a6ac-dcba7eb43f57",
   "metadata": {},
   "outputs": [
    {
     "name": "stdout",
     "output_type": "stream",
     "text": [
      "15\n",
      "[4633, 3390, 2147, 339, 8814, 3164, 565, 61, 12, 45, 30, 19, 50, 44, 7]\n",
      "[[5 6 7 5 6 0 6 0]\n",
      " [6 3 6 1 5 3 3 7]\n",
      " [0 0 5 2 4 5 0 3]\n",
      " [7 5 3 3 7 4 4 1]\n",
      " [4 2 2 7 2 1 1 2]\n",
      " [1 1 1 0 0 2 2 4]\n",
      " [2 2 4 0 1 6 5 5]\n",
      " [6 0 3 3 2 2 0 4]\n",
      " [2 0 7 0 1 3 1 1]\n",
      " [4 2 1 2 6 6 6 3]\n",
      " [3 3 5 2 4 4 3 7]\n",
      " [5 1 4 7 3 1 4 2]\n",
      " [7 5 2 1 0 1 7 6]\n",
      " [1 6 2 5 7 0 2 5]\n",
      " [0 6 6 5 5 5 5 0]]\n",
      "113\n",
      "GER\n",
      "GER\n",
      "0:00:04.361493\n"
     ]
    }
   ],
   "source": [
    "P = P2\n",
    "d_low = 30\n",
    "d_high = 200\n",
    "z = 10\n",
    "\n",
    "time_before_execution = datetime.datetime.now()\n",
    "K, x_list, A_array, optimal_d, Q_tilde_optimal_algo, R_tilde_optimal_algo = SDS2G(P, d_low, d_high, z)\n",
    "time_after_execution = datetime.datetime.now()\n",
    "\n",
    "execution_duration = time_after_execution - time_before_execution\n",
    "\n",
    "print(K)\n",
    "print(x_list)\n",
    "print(A_array)\n",
    "print(optimal_d)\n",
    "print(Q_tilde_optimal_algo)\n",
    "print(R_tilde_optimal_algo)\n",
    "print(execution_duration)"
   ]
  },
  {
   "cell_type": "code",
   "execution_count": 24,
   "id": "89eb2af8-7672-4d52-b89c-eba41eadd109",
   "metadata": {},
   "outputs": [
    {
     "data": {
      "text/plain": [
       "array([[ True,  True,  True,  True,  True,  True,  True,  True],\n",
       "       [ True,  True,  True,  True,  True,  True,  True,  True],\n",
       "       [ True,  True,  True,  True,  True,  True,  True,  True],\n",
       "       [ True,  True,  True,  True,  True,  True,  True,  True],\n",
       "       [ True,  True,  True,  True,  True,  True,  True,  True],\n",
       "       [ True,  True,  True,  True,  True,  True,  True,  True],\n",
       "       [ True,  True,  True,  True,  True,  True,  True,  True],\n",
       "       [ True,  True,  True,  True,  True,  True,  True,  True]])"
      ]
     },
     "execution_count": 24,
     "metadata": {},
     "output_type": "execute_result"
    }
   ],
   "source": [
    "row_dim = 8\n",
    "col_dim = 8\n",
    "\n",
    "P2 == add_up_a_decomposition(x_list, A_array, row_dim, col_dim)"
   ]
  },
  {
   "cell_type": "markdown",
   "id": "261bd4bb-4673-4d00-a890-76bd8c26d3ac",
   "metadata": {},
   "source": [
    "### $Q_{1}$"
   ]
  },
  {
   "cell_type": "code",
   "execution_count": 47,
   "id": "3c2bc905-7874-49aa-9598-ba5d5ea5fc4f",
   "metadata": {},
   "outputs": [
    {
     "name": "stdout",
     "output_type": "stream",
     "text": [
      "24\n",
      "[2805, 2640, 2475, 1980, 1980, 1815, 1485, 1155, 1155, 990, 660, 330, 122, 100, 81, 64, 50, 36, 25, 20, 17, 9, 5, 1]\n",
      "[[ 0 11  6 10  2 10  8  1 13  6  5 14  0  8 13 14]\n",
      " [ 1  3 11  0  8 12  9  2 10  5  1  6  3 10  8  9]\n",
      " [ 5  6  7  3 14  9  3 13  8  2 10 13 10 11  3 15]\n",
      " [ 7  2  0  1  6 13 10  7  0  9  6  4  4  9  4  2]\n",
      " [ 9 15 10 13 15 14 14  9  1 13 13 10  9 13 14  3]\n",
      " [15  5 14  4  7  8  0  0  5 11  4  7 14  0  2 10]\n",
      " [10 13 13 15 11  7  4  8  9  8  2  1  6  5  5 12]\n",
      " [ 4  7  1  7  3  1  1  3  7  4  0  9  1  3  9  5]\n",
      " [12 10  2 14  5  2  7 12 15 12  3 12  2 12 12  6]\n",
      " [ 6  8  9 11 13  3  2 15  2 10  8 11 12 15  1  8]\n",
      " [11 12  8  8  0  6  5 10  6  0  7  3 15  6 10 13]\n",
      " [ 8 14  4  9 10  4 11  6 12 15 12  5 13  1  7  0]\n",
      " [ 4  8  7  3  0  3 14  6 12  2  2  1  3  1 13  6]\n",
      " [12  2  0  4 15  8  7 10 13 15  6  4  1  8 12 10]\n",
      " [ 6 10 13 15  5  9 11  1  1  5  3 10 15 13 10  8]\n",
      " [11  5 10  8 14  6  1 15  5 12 13  6 10 15  4  5]\n",
      " [ 7  3  2  1  6 14  8  3 15 10  7 11  9  6 14 15]\n",
      " [ 5 13  8  0 11  7  4  9  7  8  5 13 12 12  8  9]\n",
      " [15  6 14 10 13 10  0 13  6  0  1  5  2 11  9 13]\n",
      " [ 1  7  4 14  2  1  3  8  9 11  8  9  6  3  3  2]\n",
      " [ 8 11  1 13  8  2  2  0 10  4  4  7 14 10  5 12]\n",
      " [10 14 11 11 10  4  5  2  2  9  0 14  4  0  1  3]\n",
      " [ 0 15  6  7  7 13  9  7  8  6 10 12 13  5  2 14]\n",
      " [ 9 12  9  9  3 12 10 12  0 13 12  3  0  9  7  0]]\n",
      "165\n",
      "SER 2\n",
      "SER 2\n",
      "0:00:10.595228\n"
     ]
    }
   ],
   "source": [
    "Q = Q1\n",
    "d_low = 30\n",
    "d_high = 200\n",
    "z = 10\n",
    "\n",
    "time_before_execution = datetime.datetime.now()\n",
    "K, x_list, A_array, optimal_d, Q_tilde_optimal_algo, R_tilde_optimal_algo = SDS2G(Q, d_low, d_high, z)\n",
    "time_after_execution = datetime.datetime.now()\n",
    "\n",
    "execution_duration = time_after_execution - time_before_execution\n",
    "\n",
    "print(K)\n",
    "print(x_list)\n",
    "print(A_array)\n",
    "print(optimal_d)\n",
    "print(Q_tilde_optimal_algo)\n",
    "print(R_tilde_optimal_algo)\n",
    "print(execution_duration)"
   ]
  },
  {
   "cell_type": "code",
   "execution_count": 26,
   "id": "fdeb685c-5cbd-4817-88a5-f877b49298e6",
   "metadata": {},
   "outputs": [
    {
     "data": {
      "text/plain": [
       "array([[ True,  True,  True,  True,  True,  True,  True,  True,  True,\n",
       "         True,  True,  True,  True,  True,  True,  True],\n",
       "       [ True,  True,  True,  True,  True,  True,  True,  True,  True,\n",
       "         True,  True,  True,  True,  True,  True,  True],\n",
       "       [ True,  True,  True,  True,  True,  True,  True,  True,  True,\n",
       "         True,  True,  True,  True,  True,  True,  True],\n",
       "       [ True,  True,  True,  True,  True,  True,  True,  True,  True,\n",
       "         True,  True,  True,  True,  True,  True,  True],\n",
       "       [ True,  True,  True,  True,  True,  True,  True,  True,  True,\n",
       "         True,  True,  True,  True,  True,  True,  True],\n",
       "       [ True,  True,  True,  True,  True,  True,  True,  True,  True,\n",
       "         True,  True,  True,  True,  True,  True,  True],\n",
       "       [ True,  True,  True,  True,  True,  True,  True,  True,  True,\n",
       "         True,  True,  True,  True,  True,  True,  True],\n",
       "       [ True,  True,  True,  True,  True,  True,  True,  True,  True,\n",
       "         True,  True,  True,  True,  True,  True,  True],\n",
       "       [ True,  True,  True,  True,  True,  True,  True,  True,  True,\n",
       "         True,  True,  True,  True,  True,  True,  True],\n",
       "       [ True,  True,  True,  True,  True,  True,  True,  True,  True,\n",
       "         True,  True,  True,  True,  True,  True,  True],\n",
       "       [ True,  True,  True,  True,  True,  True,  True,  True,  True,\n",
       "         True,  True,  True,  True,  True,  True,  True],\n",
       "       [ True,  True,  True,  True,  True,  True,  True,  True,  True,\n",
       "         True,  True,  True,  True,  True,  True,  True],\n",
       "       [ True,  True,  True,  True,  True,  True,  True,  True,  True,\n",
       "         True,  True,  True,  True,  True,  True,  True],\n",
       "       [ True,  True,  True,  True,  True,  True,  True,  True,  True,\n",
       "         True,  True,  True,  True,  True,  True,  True],\n",
       "       [ True,  True,  True,  True,  True,  True,  True,  True,  True,\n",
       "         True,  True,  True,  True,  True,  True,  True],\n",
       "       [ True,  True,  True,  True,  True,  True,  True,  True,  True,\n",
       "         True,  True,  True,  True,  True,  True,  True]])"
      ]
     },
     "execution_count": 26,
     "metadata": {},
     "output_type": "execute_result"
    }
   ],
   "source": [
    "row_dim = 16\n",
    "col_dim = 16\n",
    "\n",
    "Q1 == add_up_a_decomposition(x_list, A_array, row_dim, col_dim)"
   ]
  },
  {
   "cell_type": "markdown",
   "id": "a87fa25c-dd54-4cc6-be3c-795f80652d8b",
   "metadata": {},
   "source": [
    "### $Q_{2}$"
   ]
  },
  {
   "cell_type": "code",
   "execution_count": 48,
   "id": "f98346d7-e534-4521-b6e8-edf82f1ee7ea",
   "metadata": {},
   "outputs": [
    {
     "name": "stdout",
     "output_type": "stream",
     "text": [
      "34\n",
      "[4788, 3325, 3724, 13566, 1995, 133, 9443, 1596, 2261, 3192, 2261, 11970, 6650, 798, 2128, 11438, 4256, 2527, 133, 10, 68, 11, 31, 27, 8, 25, 50, 21, 1, 45, 33, 64, 18, 9]\n",
      "[[ 1  3 13  9  3  4  3 12  5  6  4 13  6  3  8  0]\n",
      " [ 7 11  2  0  9  8  1 15  4 15  3 11  1 13  1  9]\n",
      " [ 5  0 15  2 15 10  9  9 15  3  1  6  1  2  6  5]\n",
      " [ 8  6  0  9  0  2  9 10  0  0  2 15  4 11  0 14]\n",
      " [13  0  7  7  8 14 13 11 12  4  7  2  5 12  4  7]\n",
      " [ 2  7 14  5 13  7  2  5 10  8 15 12  3 10 14  1]\n",
      " [11  1 12  3  2  5 10 13  9 13  9  8  3 14  7 12]\n",
      " [ 9 12  8 10  1  9 15  6  8  9  8  1  8  5 12 12]\n",
      " [ 6  2  4 10  4  2  4  2  2  7 11  3 14  4  3  6]\n",
      " [ 3  8 10  1 10 12  6  7  7 10  0  9  7  9  9 11]\n",
      " [11  2 11  8  5  3  4  4  3 11 13  5 12  8 10 13]\n",
      " [ 3  5  5  8  7  0 12  0  4  2 10 10  8  7  5  8]\n",
      " [10 13  6 13 12 15  5  3 11  5  5  0 11 15  2  3]\n",
      " [ 4 13  3  4  6 11 11  8 11  1 12 14 12  1 11 11]\n",
      " [12  9  1  4 14  0  5 14  1 14 14  4  9  6 15  4]\n",
      " [14  9  9  4 11  1  2  1  6 12  6  7 15  0 13 15]\n",
      " [14  9  9 14 11  0  2  1  6 12  6  7 15  0 13 15]\n",
      " [14  9  9 14 11  1  2  1  6 12  6  7 15  0 13 15]\n",
      " [14  9  9 14 11 14  2  1  6 12  6  7 15  0 13 15]\n",
      " [ 2  8 14  3 13  2 13  4  4  3  9  3  8 12  7  1]\n",
      " [ 5  2  8  1  2  9  5  0  6  6 14 13  1 10  5 15]\n",
      " [ 3  5 13 13  4 15  9  6  5 10 10 11  9  4  0 13]\n",
      " [ 9  0 12 14 12 11  5  1  2  1  2  6 15 13  6  0]\n",
      " [11  1  3  9 11  1  1 12  8  7  1 12  4  8 13  9]\n",
      " [ 8  5  5  7 15 10 15  2  0  5  6  2 12  1 14  3]\n",
      " [ 1  9  1  8 14  0  2  5 12  8  0  8  3  7 15  8]\n",
      " [13 11  9 10  0  3  3 11  8  9  7 14  7  5 12  4]\n",
      " [ 6 11  0  5 10 12  2  7  7 14 15  1  7  6 10 14]\n",
      " [ 4  6  7  4  9  7  6  9 15  2 12 10 11  3  3 12]\n",
      " [ 4  3  6  2  3  8 10  8 10 12  5 15 14  9  9  6]\n",
      " [10 12 11  4  7 11  4  3  9 13 11  7  5  0  8  7]\n",
      " [14  7 10  0  1 14 12 10 11  4 13  5  6 11 11  5]\n",
      " [12  3  4  0  6  5 11 13  3 11  3  0  5 15  2 11]\n",
      " [ 7 13  2  7  5  4 12 15  1 15  8  9  5  2  4 11]]\n",
      "133\n",
      "GER\n",
      "GER\n",
      "0:00:15.332155\n"
     ]
    }
   ],
   "source": [
    "Q = Q2\n",
    "d_low = 30\n",
    "d_high = 200\n",
    "z = 10\n",
    "\n",
    "time_before_execution = datetime.datetime.now()\n",
    "K, x_list, A_array, optimal_d, Q_tilde_optimal_algo, R_tilde_optimal_algo = SDS2G(Q, d_low, d_high, z)\n",
    "time_after_execution = datetime.datetime.now()\n",
    "\n",
    "execution_duration = time_after_execution - time_before_execution\n",
    "\n",
    "print(K)\n",
    "print(x_list)\n",
    "print(A_array)\n",
    "print(optimal_d)\n",
    "print(Q_tilde_optimal_algo)\n",
    "print(R_tilde_optimal_algo)\n",
    "print(execution_duration)"
   ]
  },
  {
   "cell_type": "code",
   "execution_count": 28,
   "id": "03946b87-2bb1-47dd-80f1-5d6abd0127aa",
   "metadata": {},
   "outputs": [
    {
     "data": {
      "text/plain": [
       "array([[ True,  True,  True,  True,  True,  True,  True,  True,  True,\n",
       "         True,  True,  True,  True,  True,  True,  True],\n",
       "       [ True,  True,  True,  True,  True,  True,  True,  True,  True,\n",
       "         True,  True,  True,  True,  True,  True,  True],\n",
       "       [ True,  True,  True,  True,  True,  True,  True,  True,  True,\n",
       "         True,  True,  True,  True,  True,  True,  True],\n",
       "       [ True,  True,  True,  True,  True,  True,  True,  True,  True,\n",
       "         True,  True,  True,  True,  True,  True,  True],\n",
       "       [ True,  True,  True,  True,  True,  True,  True,  True,  True,\n",
       "         True,  True,  True,  True,  True,  True,  True],\n",
       "       [ True,  True,  True,  True,  True,  True,  True,  True,  True,\n",
       "         True,  True,  True,  True,  True,  True,  True],\n",
       "       [ True,  True,  True,  True,  True,  True,  True,  True,  True,\n",
       "         True,  True,  True,  True,  True,  True,  True],\n",
       "       [ True,  True,  True,  True,  True,  True,  True,  True,  True,\n",
       "         True,  True,  True,  True,  True,  True,  True],\n",
       "       [ True,  True,  True,  True,  True,  True,  True,  True,  True,\n",
       "         True,  True,  True,  True,  True,  True,  True],\n",
       "       [ True,  True,  True,  True,  True,  True,  True,  True,  True,\n",
       "         True,  True,  True,  True,  True,  True,  True],\n",
       "       [ True,  True,  True,  True,  True,  True,  True,  True,  True,\n",
       "         True,  True,  True,  True,  True,  True,  True],\n",
       "       [ True,  True,  True,  True,  True,  True,  True,  True,  True,\n",
       "         True,  True,  True,  True,  True,  True,  True],\n",
       "       [ True,  True,  True,  True,  True,  True,  True,  True,  True,\n",
       "         True,  True,  True,  True,  True,  True,  True],\n",
       "       [ True,  True,  True,  True,  True,  True,  True,  True,  True,\n",
       "         True,  True,  True,  True,  True,  True,  True],\n",
       "       [ True,  True,  True,  True,  True,  True,  True,  True,  True,\n",
       "         True,  True,  True,  True,  True,  True,  True],\n",
       "       [ True,  True,  True,  True,  True,  True,  True,  True,  True,\n",
       "         True,  True,  True,  True,  True,  True,  True]])"
      ]
     },
     "execution_count": 28,
     "metadata": {},
     "output_type": "execute_result"
    }
   ],
   "source": [
    "row_dim = 16\n",
    "col_dim = 16\n",
    "\n",
    "Q2 == add_up_a_decomposition(x_list, A_array, row_dim, col_dim)"
   ]
  },
  {
   "cell_type": "markdown",
   "id": "dbc38421-cd71-4ad0-9a9b-c927df56c455",
   "metadata": {},
   "source": [
    "# Numerical Experiments (GER)"
   ]
  },
  {
   "cell_type": "markdown",
   "id": "c7b0b87d-5383-4043-8052-9bb9ca5c6bec",
   "metadata": {},
   "source": [
    "### $P_{1}$"
   ]
  },
  {
   "cell_type": "code",
   "execution_count": 66,
   "id": "2c74f25c-5e10-4615-9cc3-e5ac5ec52232",
   "metadata": {},
   "outputs": [
    {
     "name": "stdout",
     "output_type": "stream",
     "text": [
      "[22, 20, 20, 20, 20, 20, 20, 20, 20, 20, 20, 20, 20, 20, 20, 20, 20, 20, 20]\n",
      "0:00:00.051339\n",
      "0:00:00.031439\n",
      "0:00:00.024683\n"
     ]
    }
   ],
   "source": [
    "lengths_of_decompositions = []\n",
    "execution_times = []\n",
    "\n",
    "for z_parameter in range(2, 21):\n",
    "    time_before_execution = datetime.datetime.now()\n",
    "    k, coefficient_list_xi, BN_matrices_list_Ai = GER(P1, z_parameter)\n",
    "    time_after_execution = datetime.datetime.now()\n",
    "    \n",
    "    execution_duration = time_after_execution - time_before_execution\n",
    "    lengths_of_decompositions.append(k)\n",
    "    execution_times.append(execution_duration)\n",
    "\n",
    "print(lengths_of_decompositions)\n",
    "print(max(execution_times))\n",
    "print(sum(execution_times, datetime.timedelta()) / len(execution_times))\n",
    "print(min(execution_times))"
   ]
  },
  {
   "cell_type": "markdown",
   "id": "449cf608-f168-4eae-a1c1-d61e6df77e02",
   "metadata": {},
   "source": [
    "### $P_{2}$"
   ]
  },
  {
   "cell_type": "code",
   "execution_count": 70,
   "id": "399e92fd-acde-4ab0-9b6f-d116b9760476",
   "metadata": {},
   "outputs": [
    {
     "name": "stdout",
     "output_type": "stream",
     "text": [
      "[30, 33, 33, 33, 33, 33, 33, 33, 33, 33, 33, 33, 33, 33, 33, 33, 33, 33, 33]\n",
      "0:00:00.270271\n",
      "0:00:00.183380\n",
      "0:00:00.151033\n"
     ]
    }
   ],
   "source": [
    "lengths_of_decompositions = []\n",
    "execution_times = []\n",
    "\n",
    "for z_parameter in range(2, 21):\n",
    "    time_before_execution = datetime.datetime.now()\n",
    "    k, coefficient_list_xi, BN_matrices_list_Ai = GER(P2, z_parameter)\n",
    "    time_after_execution = datetime.datetime.now()\n",
    "    \n",
    "    execution_duration = time_after_execution - time_before_execution\n",
    "    lengths_of_decompositions.append(k)\n",
    "    execution_times.append(execution_duration)\n",
    "\n",
    "print(lengths_of_decompositions)\n",
    "print(max(execution_times))\n",
    "print(sum(execution_times, datetime.timedelta()) / len(execution_times))\n",
    "print(min(execution_times))"
   ]
  },
  {
   "cell_type": "markdown",
   "id": "393eabf2-f4bf-46af-927d-3af561dafb44",
   "metadata": {},
   "source": [
    "### $Q_{1}$"
   ]
  },
  {
   "cell_type": "code",
   "execution_count": 71,
   "id": "df32deb8-88f5-4a9a-9c15-dc4728b206c9",
   "metadata": {},
   "outputs": [
    {
     "name": "stdout",
     "output_type": "stream",
     "text": [
      "[60, 66, 66, 66, 66, 66, 66, 66, 66, 66, 66, 66, 66, 66, 66, 66, 66, 66, 66]\n",
      "0:00:00.356680\n",
      "0:00:00.242593\n",
      "0:00:00.199324\n"
     ]
    }
   ],
   "source": [
    "lengths_of_decompositions = []\n",
    "execution_times = []\n",
    "\n",
    "for z_parameter in range(2, 21):\n",
    "    time_before_execution = datetime.datetime.now()\n",
    "    k, coefficient_list_xi, BN_matrices_list_Ai = GER(Q1, z_parameter)\n",
    "    time_after_execution = datetime.datetime.now()\n",
    "    \n",
    "    execution_duration = time_after_execution - time_before_execution\n",
    "    lengths_of_decompositions.append(k)\n",
    "    execution_times.append(execution_duration)\n",
    "\n",
    "print(lengths_of_decompositions)\n",
    "print(max(execution_times))\n",
    "print(sum(execution_times, datetime.timedelta()) / len(execution_times))\n",
    "print(min(execution_times))"
   ]
  },
  {
   "cell_type": "markdown",
   "id": "cd8996e5-a612-4307-b1cf-ff6278bacfdc",
   "metadata": {},
   "source": [
    "### $Q_{2}$"
   ]
  },
  {
   "cell_type": "code",
   "execution_count": 72,
   "id": "312bd340-1553-4741-8dac-56d96bef0d52",
   "metadata": {},
   "outputs": [
    {
     "name": "stdout",
     "output_type": "stream",
     "text": [
      "[83, 90, 92, 92, 92, 92, 92, 92, 92, 92, 92, 92, 92, 92, 92, 92, 92, 92, 92]\n",
      "0:00:01.838730\n",
      "0:00:01.407377\n",
      "0:00:01.178561\n"
     ]
    }
   ],
   "source": [
    "lengths_of_decompositions = []\n",
    "execution_times = []\n",
    "\n",
    "for z_parameter in range(2, 21):\n",
    "    time_before_execution = datetime.datetime.now()\n",
    "    k, coefficient_list_xi, BN_matrices_list_Ai = GER(Q2, z_parameter)\n",
    "    time_after_execution = datetime.datetime.now()\n",
    "    \n",
    "    execution_duration = time_after_execution - time_before_execution\n",
    "    lengths_of_decompositions.append(k)\n",
    "    execution_times.append(execution_duration)\n",
    "\n",
    "print(lengths_of_decompositions)\n",
    "print(max(execution_times))\n",
    "print(sum(execution_times, datetime.timedelta()) / len(execution_times))\n",
    "print(min(execution_times))"
   ]
  },
  {
   "cell_type": "markdown",
   "id": "e157d118-daec-4503-9b7f-14c3416eefc7",
   "metadata": {},
   "source": [
    "# Numerical Experiments (SER 1)"
   ]
  },
  {
   "cell_type": "markdown",
   "id": "c9f8e5a8-7b27-4597-9328-9b479e95865c",
   "metadata": {},
   "source": [
    "### $P_{1}$"
   ]
  },
  {
   "cell_type": "code",
   "execution_count": 57,
   "id": "697806be-68cc-4821-a2b8-46309f4c9516",
   "metadata": {},
   "outputs": [
    {
     "name": "stdout",
     "output_type": "stream",
     "text": [
      "0:00:00.002299\n",
      "41\n",
      "[173, 184, 198, 198, 224, 224, 224, 242, 1264, 621, 631, 631, 635, 636, 598, 472, 561, 375, 267, 279, 280, 102, 106, 123, 180, 93, 111, 74, 77, 40, 43, 36, 41, 9, 9, 10, 10, 5, 6, 2, 6]\n",
      "[[7 0 6 4 2 5 3 3]\n",
      " [1 5 4 6 6 2 2 1]\n",
      " [5 4 6 4 0 5 3 3]\n",
      " [7 0 4 2 6 2 2 1]\n",
      " [5 5 2 6 0 5 3 3]\n",
      " [7 0 6 4 6 6 2 1]\n",
      " [5 5 4 6 0 2 7 3]\n",
      " [7 0 6 0 6 5 5 0]\n",
      " [6 7 1 4 3 1 3 5]\n",
      " [5 5 4 4 0 2 2 1]\n",
      " [6 0 6 6 6 5 5 2]\n",
      " [7 7 7 0 5 4 6 3]\n",
      " [0 1 0 3 4 3 3 4]\n",
      " [2 3 0 7 0 2 1 1]\n",
      " [5 5 4 6 0 5 2 2]\n",
      " [7 0 6 0 6 5 5 3]\n",
      " [0 0 7 3 5 4 6 4]\n",
      " [2 1 7 7 4 1 1 2]\n",
      " [5 3 4 0 3 1 2 1]\n",
      " [7 5 1 7 6 3 5 3]\n",
      " [0 1 6 6 4 2 6 4]\n",
      " [5 3 4 3 5 4 2 4]\n",
      " [7 5 1 0 3 3 6 1]\n",
      " [0 1 6 6 6 2 5 3]\n",
      " [2 3 4 3 5 4 5 2]\n",
      " [5 5 1 0 3 4 1 1]\n",
      " [7 1 6 6 6 3 2 2]\n",
      " [5 5 1 0 6 2 1 3]\n",
      " [2 5 4 3 3 2 2 1]\n",
      " [2 3 1 6 5 3 1 3]\n",
      " [5 1 4 0 3 3 1 1]\n",
      " [7 3 6 0 5 2 2 3]\n",
      " [5 1 1 6 3 2 2 1]\n",
      " [5 3 6 3 5 3 1 3]\n",
      " [7 3 1 3 5 3 1 3]\n",
      " [7 1 6 3 5 3 1 3]\n",
      " [7 3 6 3 3 3 2 3]\n",
      " [7 3 6 6 3 3 1 1]\n",
      " [7 3 6 3 5 3 1 3]\n",
      " [7 3 6 6 5 3 1 3]\n",
      " [7 3 6 6 5 3 1 1]]\n"
     ]
    }
   ],
   "source": [
    "time_before_execution = datetime.datetime.now()\n",
    "k, coefficient_list_xi, BN_matrices_list_Ai = SER_1(P1)\n",
    "time_after_execution = datetime.datetime.now()\n",
    "\n",
    "execution_duration = time_after_execution - time_before_execution\n",
    "\n",
    "print(execution_duration)\n",
    "print(k)\n",
    "print(coefficient_list_xi)\n",
    "print(BN_matrices_list_Ai)"
   ]
  },
  {
   "cell_type": "markdown",
   "id": "7405f400-3438-47db-8c59-6d30a344ce84",
   "metadata": {},
   "source": [
    "### $P_{2}$"
   ]
  },
  {
   "cell_type": "code",
   "execution_count": 58,
   "id": "da0625f2-717e-4c85-9504-3c7f388fccb9",
   "metadata": {},
   "outputs": [
    {
     "name": "stdout",
     "output_type": "stream",
     "text": [
      "0:00:00.003136\n",
      "51\n",
      "[19, 30, 50, 50, 351, 358, 369, 383, 389, 389, 400, 400, 572, 577, 577, 584, 609, 610, 2154, 1587, 1882, 1515, 1520, 672, 688, 700, 1165, 503, 524, 528, 529, 450, 313, 361, 292, 253, 187, 145, 155, 110, 58, 70, 86, 42, 45, 13, 14, 15, 9, 8, 10]\n",
      "[[4 2 2 7 3 1 1 2]\n",
      " [3 2 2 7 2 1 1 2]\n",
      " [4 2 2 7 2 1 7 2]\n",
      " [4 2 2 7 2 1 1 6]\n",
      " [4 2 2 7 2 1 1 1]\n",
      " [4 2 2 7 2 1 4 2]\n",
      " [4 2 2 7 2 4 1 2]\n",
      " [4 2 2 7 7 1 1 2]\n",
      " [7 2 2 7 2 1 1 2]\n",
      " [4 5 2 7 2 1 1 2]\n",
      " [4 2 3 7 2 1 1 2]\n",
      " [4 2 2 3 2 1 1 2]\n",
      " [4 2 2 7 2 1 5 2]\n",
      " [2 2 2 7 2 1 1 2]\n",
      " [4 2 2 7 1 1 1 2]\n",
      " [4 2 4 5 2 0 1 0]\n",
      " [5 6 7 7 6 1 6 5]\n",
      " [4 2 2 5 2 6 1 2]\n",
      " [0 6 7 0 6 0 6 0]\n",
      " [5 2 2 0 2 1 1 2]\n",
      " [4 3 7 7 5 3 3 7]\n",
      " [6 1 6 5 5 2 2 4]\n",
      " [1 0 1 1 0 3 0 3]\n",
      " [5 2 2 2 4 5 1 3]\n",
      " [6 6 5 5 2 1 0 2]\n",
      " [4 0 6 1 6 0 6 0]\n",
      " [4 1 1 7 0 2 2 4]\n",
      " [5 1 2 2 4 5 3 7]\n",
      " [1 3 1 5 2 1 1 2]\n",
      " [5 2 5 1 6 0 2 0]\n",
      " [6 6 6 2 0 5 6 7]\n",
      " [1 3 2 5 4 5 3 2]\n",
      " [5 2 5 5 2 1 1 0]\n",
      " [6 6 6 1 6 0 6 0]\n",
      " [1 2 6 7 2 1 1 4]\n",
      " [5 3 5 2 4 2 3 4]\n",
      " [5 6 2 7 2 0 3 7]\n",
      " [1 2 5 1 6 1 3 2]\n",
      " [6 3 2 2 2 2 6 7]\n",
      " [1 2 5 2 4 1 1 2]\n",
      " [6 2 2 1 4 0 1 2]\n",
      " [1 3 2 7 6 1 6 7]\n",
      " [6 3 5 1 4 2 1 2]\n",
      " [1 6 2 1 6 0 6 7]\n",
      " [6 6 2 7 4 0 6 2]\n",
      " [1 6 5 7 6 2 6 7]\n",
      " [6 6 5 7 6 2 1 7]\n",
      " [1 6 2 7 6 2 1 7]\n",
      " [1 6 5 7 6 2 1 2]\n",
      " [1 6 5 7 6 0 1 2]\n",
      " [1 6 5 7 6 0 1 7]]\n"
     ]
    }
   ],
   "source": [
    "time_before_execution = datetime.datetime.now()\n",
    "k, coefficient_list_xi, BN_matrices_list_Ai = SER_1(P2)\n",
    "time_after_execution = datetime.datetime.now()\n",
    "\n",
    "execution_duration = time_after_execution - time_before_execution\n",
    "\n",
    "print(execution_duration)\n",
    "print(k)\n",
    "print(coefficient_list_xi)\n",
    "print(BN_matrices_list_Ai)"
   ]
  },
  {
   "cell_type": "markdown",
   "id": "34493f27-08d6-48a9-a947-84b3a2e36bc9",
   "metadata": {},
   "source": [
    "### $Q_{1}$"
   ]
  },
  {
   "cell_type": "code",
   "execution_count": 59,
   "id": "66f7c715-31a6-4870-8d42-cbd5a3aa2e81",
   "metadata": {},
   "outputs": [
    {
     "name": "stdout",
     "output_type": "stream",
     "text": [
      "0:00:00.018212\n",
      "119\n",
      "[331, 331, 331, 331, 335, 339, 339, 339, 347, 350, 355, 411, 430, 452, 452, 452, 661, 661, 669, 685, 685, 668, 557, 563, 563, 587, 404, 423, 410, 379, 355, 330, 361, 322, 313, 299, 304, 265, 271, 163, 171, 183, 179, 155, 165, 158, 155, 150, 134, 137, 87, 94, 97, 80, 86, 80, 77, 74, 72, 65, 57, 50, 47, 43, 40, 40, 40, 30, 31, 27, 28, 22, 26, 20, 21, 22, 13, 19, 13, 15, 13, 14, 13, 12, 11, 10, 10, 6, 7, 7, 6, 6, 5, 6, 3, 4, 3, 4, 3, 3, 3, 2, 3, 2, 2, 2, 2, 1, 1, 1, 1, 1, 1, 1, 1, 1, 1, 1, 1]\n",
      "[[ 0 11  6 ...  8 13 14]\n",
      " [ 1  3 11 ... 10  8  9]\n",
      " [ 5  6  7 ...  8  7 15]\n",
      " ...\n",
      " [12 15  6 ...  9  8  6]\n",
      " [15 11 11 ... 13 10  8]\n",
      " [15 15 14 ... 15 13 10]]\n"
     ]
    }
   ],
   "source": [
    "time_before_execution = datetime.datetime.now()\n",
    "k, coefficient_list_xi, BN_matrices_list_Ai = SER_1(Q1)\n",
    "time_after_execution = datetime.datetime.now()\n",
    "\n",
    "execution_duration = time_after_execution - time_before_execution\n",
    "\n",
    "print(execution_duration)\n",
    "print(k)\n",
    "print(coefficient_list_xi)\n",
    "print(BN_matrices_list_Ai)"
   ]
  },
  {
   "cell_type": "markdown",
   "id": "2a6041d4-8f5d-488b-a3f3-f283e411c538",
   "metadata": {},
   "source": [
    "### $Q_{2}$"
   ]
  },
  {
   "cell_type": "code",
   "execution_count": 60,
   "id": "03868c4d-0629-4de7-875c-f58d6afcc977",
   "metadata": {},
   "outputs": [
    {
     "name": "stdout",
     "output_type": "stream",
     "text": [
      "0:00:00.016908\n",
      "164\n",
      "[134, 141, 143, 143, 143, 143, 154, 154, 158, 158, 160, 178, 197, 201, 799, 806, 816, 816, 825, 829, 843, 844, 848, 862, 862, 1604, 1605, 1607, 1617, 1627, 1629, 1646, 1646, 1646, 1660, 1664, 1664, 1673, 1995, 1996, 2003, 2004, 2005, 2005, 2012, 2020, 2028, 2045, 2045, 1689, 1654, 1671, 1530, 1450, 1327, 979, 1144, 1125, 1082, 1057, 1035, 1058, 985, 774, 790, 752, 698, 639, 508, 515, 541, 540, 526, 490, 507, 399, 357, 395, 330, 316, 272, 312, 258, 260, 264, 247, 252, 173, 179, 178, 144, 155, 153, 143, 144, 131, 133, 71, 122, 71, 75, 79, 79, 79, 68, 73, 66, 62, 49, 50, 38, 41, 42, 37, 38, 30, 33, 19, 24, 22, 24, 21, 21, 17, 19, 11, 15, 11, 11, 11, 11, 9, 9, 7, 6, 7, 6, 6, 5, 5, 4, 4, 3, 3, 3, 2, 3, 1, 1, 1, 2, 1, 1, 1, 2, 1, 1, 1, 1, 1, 1, 1, 1, 1]\n",
      "[[14  9  9 ...  0 13 15]\n",
      " [14  9  9 ...  0 14 15]\n",
      " [ 2  9  9 ...  0 13 15]\n",
      " ...\n",
      " [11 13  4 ...  9 10 11]\n",
      " [12 11  6 ... 13 13 14]\n",
      " [12 13 15 ... 14 15 15]]\n"
     ]
    }
   ],
   "source": [
    "time_before_execution = datetime.datetime.now()\n",
    "k, coefficient_list_xi, BN_matrices_list_Ai = SER_1(Q2)\n",
    "time_after_execution = datetime.datetime.now()\n",
    "\n",
    "execution_duration = time_after_execution - time_before_execution\n",
    "\n",
    "print(execution_duration)\n",
    "print(k)\n",
    "print(coefficient_list_xi)\n",
    "print(BN_matrices_list_Ai)"
   ]
  },
  {
   "cell_type": "markdown",
   "id": "b35c0f70-3323-4771-a153-33f45723c817",
   "metadata": {},
   "source": [
    "# Numerical Experiments (SER 2)"
   ]
  },
  {
   "cell_type": "markdown",
   "id": "0bfba5b6-478a-42dc-8d0e-40fb521a6840",
   "metadata": {},
   "source": [
    "### $P_{1}$"
   ]
  },
  {
   "cell_type": "code",
   "execution_count": 61,
   "id": "a3edb33d-eede-4d77-b6ba-4151ff36ba85",
   "metadata": {},
   "outputs": [
    {
     "name": "stdout",
     "output_type": "stream",
     "text": [
      "0:00:00.001001\n",
      "16\n",
      "[2480, 2469, 1895, 1567, 1264, 173, 44, 32, 25, 14, 11, 11, 7, 4, 3, 1]\n",
      "[[7 0 6 4 6 5 3 3]\n",
      " [5 5 4 6 0 2 2 1]\n",
      " [6 7 1 0 3 1 5 2]\n",
      " [0 1 7 3 5 4 6 4]\n",
      " [2 3 0 7 4 3 1 5]\n",
      " [1 4 2 2 2 6 7 0]\n",
      " [2 1 6 0 6 5 7 0]\n",
      " [7 3 2 3 0 6 1 3]\n",
      " [0 4 4 7 4 2 5 1]\n",
      " [5 0 2 0 5 6 3 0]\n",
      " [1 3 6 2 6 5 1 0]\n",
      " [5 5 1 2 3 1 6 4]\n",
      " [7 0 0 0 5 3 5 3]\n",
      " [0 1 2 0 5 6 7 1]\n",
      " [0 1 6 2 6 5 7 1]\n",
      " [7 3 2 7 4 6 1 3]]\n"
     ]
    }
   ],
   "source": [
    "time_before_execution = datetime.datetime.now()\n",
    "k, coefficient_list_xi, BN_matrices_list_Ai = SER_2(P1)\n",
    "time_after_execution = datetime.datetime.now()\n",
    "\n",
    "execution_duration = time_after_execution - time_before_execution\n",
    "\n",
    "print(execution_duration)\n",
    "print(k)\n",
    "print(coefficient_list_xi)\n",
    "print(BN_matrices_list_Ai)"
   ]
  },
  {
   "cell_type": "markdown",
   "id": "d0b0b5e5-2421-4a25-b9b7-945bbf9305ee",
   "metadata": {},
   "source": [
    "### $P_{2}$"
   ]
  },
  {
   "cell_type": "code",
   "execution_count": 62,
   "id": "cfca2532-83c7-42e3-92a4-5cc68b1938f7",
   "metadata": {},
   "outputs": [
    {
     "name": "stdout",
     "output_type": "stream",
     "text": [
      "0:00:00.002047\n",
      "22\n",
      "[8826, 4640, 3397, 3183, 2154, 400, 344, 172, 49, 39, 33, 25, 23, 11, 6, 5, 5, 3, 2, 1, 1, 1]\n",
      "[[4 2 2 7 2 1 1 2]\n",
      " [5 6 7 5 6 0 6 0]\n",
      " [6 3 6 0 5 3 3 7]\n",
      " [1 1 1 1 0 2 2 4]\n",
      " [0 0 5 2 4 5 0 3]\n",
      " [2 2 4 3 1 6 5 5]\n",
      " [7 5 3 0 7 4 4 1]\n",
      " [2 2 4 1 1 6 5 5]\n",
      " [6 0 2 1 2 1 0 6]\n",
      " [7 5 3 2 7 2 7 4]\n",
      " [4 6 2 5 6 6 6 3]\n",
      " [3 2 1 1 0 0 2 5]\n",
      " [1 3 5 2 4 4 3 7]\n",
      " [5 0 3 1 3 0 4 5]\n",
      " [7 6 4 5 3 1 7 1]\n",
      " [2 0 3 7 0 3 0 2]\n",
      " [3 5 4 2 1 6 6 3]\n",
      " [6 6 7 5 6 2 7 4]\n",
      " [1 6 7 5 3 1 4 2]\n",
      " [6 0 1 7 6 4 7 1]\n",
      " [5 2 3 2 0 0 4 5]\n",
      " [6 5 4 7 6 4 7 6]]\n"
     ]
    }
   ],
   "source": [
    "time_before_execution = datetime.datetime.now()\n",
    "k, coefficient_list_xi, BN_matrices_list_Ai = SER_2(P2)\n",
    "time_after_execution = datetime.datetime.now()\n",
    "\n",
    "execution_duration = time_after_execution - time_before_execution\n",
    "\n",
    "print(execution_duration)\n",
    "print(k)\n",
    "print(coefficient_list_xi)\n",
    "print(BN_matrices_list_Ai)"
   ]
  },
  {
   "cell_type": "markdown",
   "id": "11e97efa-f2c5-4747-b48f-b35d7d800d3a",
   "metadata": {},
   "source": [
    "### $Q_{1}$"
   ]
  },
  {
   "cell_type": "code",
   "execution_count": 63,
   "id": "6b29295f-51f3-498a-96d1-5e3c58fa2394",
   "metadata": {},
   "outputs": [
    {
     "name": "stdout",
     "output_type": "stream",
     "text": [
      "0:00:00.002020\n",
      "38\n",
      "[2806, 2641, 2480, 1989, 1981, 1820, 1490, 1175, 1156, 991, 661, 331, 102, 80, 61, 49, 30, 20, 19, 16, 15, 15, 14, 11, 10, 8, 4, 4, 4, 4, 3, 3, 2, 1, 1, 1, 1, 1]\n",
      "[[ 0 11  6 10  2 10  8  1 13  6  5 14  0  8 13 14]\n",
      " [ 1  3 11  0  8 12  9  2 10  5  1  6  3 10  8  9]\n",
      " [ 5  6  7  3 14  9  3 13  8  2 10 13 10 11  3 15]\n",
      " [ 7  2  0  1 15 14 14  9  1  9  6  4  9 13  4  2]\n",
      " [ 9 15 10 13  6 13 10  7  0 13 13 10  4  9 14  3]\n",
      " [15  5 14  4  7  8  0  0  5 11  4  7 14  0  2 10]\n",
      " [10 13 13 15 11  7  4  8  9  8  2  1  6  5  5 12]\n",
      " [ 4 10  2 14  5  1  7  3 15 12  3  9  1 12 12  6]\n",
      " [12  7  1  7  3  2  1 12  7  4  0 12  2  3  9  5]\n",
      " [ 6  8  9 11 13  3  2 15  2 10  8 11 12 15  1  8]\n",
      " [11 12  8  8  0  6  5 10  6  0  7  3 15  6 10 13]\n",
      " [ 8 14  4  9 10  4 11  6 12 15 12  5 13  1  7  0]\n",
      " [ 4  8  7  3  0  3 14  6 12  2  2  1  3  1 13  6]\n",
      " [12  2  0  4 15  8  7 10 13 15  6  4  1  8 10 10]\n",
      " [ 6 10 13 15  5  9 11  1  1  5 13 10 15 13 12  8]\n",
      " [11  5 10  8 14  6  1 15  5 10  3  6 10 15  4  5]\n",
      " [ 7  3  8  1  6 14  8  3  7 12  7 11  9  6 14 15]\n",
      " [ 5 13  2  0 11  7  4  9 15  8  5 13 12 11  8  9]\n",
      " [15  6 14 10 13 10  0 13  6  0  1  5  2  1  9 13]\n",
      " [ 1  3  4 13  0  3  8  1 12  5  7 10  3  3 12  8]\n",
      " [ 6  7  1  0  2  2 11  6 13 15  8 11 15  6 13  9]\n",
      " [12  8  7  3  6  8  2 10 10  4  2  1  6  8 14 10]\n",
      " [ 8 11 13  4  8  9  3  8  9  2  5  6 12 10  3 15]\n",
      " [11  2 10 15 11  6  1 15  1 11  3  7 14 12  8  5]\n",
      " [ 5 13  0  8 15  7  4  0  5 12  4  4  9 15  5 12]\n",
      " [ 7  5  2  1 14 14 14  2 15  8  6 13 10 13  1  2]\n",
      " [ 0 14 11 11 10  4  5  9  2  0  0 14  4 12  4  3]\n",
      " [ 6  7  8 10 13 10  5  6  6  6  1  5  2  0  9 13]\n",
      " [10  8  6  7  2  4  9  7  7 11  0 11  4  6  8  3]\n",
      " [12 14 11  8  6 13 11 10  2 12  8 12 13  8 13 14]\n",
      " [ 1 15  4 11 10  3  1  1 13 15  6 14 15 15 14  2]\n",
      " [ 7  3 10 15  0  6  8  9 12  5  7 10  3  3 12  5]\n",
      " [11  5  2  1  8 14 14 15 15  8  4 13 10 13  4  8]\n",
      " [ 8 11  0  1 14  2  0  0  6  0 13  4  2 10  5 12]\n",
      " [ 5  6  1  4 10  7  2  0  7  2  1  5  9 10  3  8]\n",
      " [ 8 11  8 10 13  9  3  8  9  4  3  7 12 12  5 12]\n",
      " [11 13 13 11 14 10  4 13 10  8  5 13 14 13  9 13]\n",
      " [15 15 14 15 15 14 14 15 13 15 13 14 15 15 14 15]]\n"
     ]
    }
   ],
   "source": [
    "time_before_execution = datetime.datetime.now()\n",
    "k, coefficient_list_xi, BN_matrices_list_Ai = SER_2(Q1)\n",
    "time_after_execution = datetime.datetime.now()\n",
    "\n",
    "execution_duration = time_after_execution - time_before_execution\n",
    "\n",
    "print(execution_duration)\n",
    "print(k)\n",
    "print(coefficient_list_xi)\n",
    "print(BN_matrices_list_Ai)"
   ]
  },
  {
   "cell_type": "markdown",
   "id": "6d47de03-87e2-47ba-b7b5-ede8bc39afe8",
   "metadata": {},
   "source": [
    "### $Q_{2}$"
   ]
  },
  {
   "cell_type": "code",
   "execution_count": 64,
   "id": "8bcab4ee-65f6-43df-9c36-6f214ae0a311",
   "metadata": {},
   "outputs": [
    {
     "name": "stdout",
     "output_type": "stream",
     "text": [
      "0:00:00.002406\n",
      "59\n",
      "[18362, 13566, 11971, 9443, 6658, 4788, 3724, 3213, 2288, 2271, 2137, 1629, 1377, 1064, 913, 651, 541, 486, 376, 165, 148, 132, 123, 110, 82, 63, 46, 36, 35, 25, 25, 23, 19, 15, 13, 11, 10, 10, 9, 7, 6, 4, 4, 3, 3, 3, 2, 2, 2, 2, 1, 1, 1, 1, 1, 1, 1, 1, 1]\n",
      "[[14  9  9  9 11  0  2  1  6 12  6  7 15  0 13 15]\n",
      " [ 3  6  0  4  0  2  9 10  4  0  2 15  4 11  0 14]\n",
      " [ 8  5  5  8  7  1 12  0  0  2 10 10  8  7  5  8]\n",
      " [11  1 12  3  2  5 10 13  9 13  9  8  3 14  7 12]\n",
      " [10 13  6 14 12 15  5  3 11  5  5  0  1 15  2  3]\n",
      " [ 1  0 13 13  3  4  3 12  5  6  4 13 11  3  8  0]\n",
      " [ 5  3 15 10 15 10  4  9 15  3  1  6  6  2  6 11]\n",
      " [ 7  2  2  2  9  8  9 15  7 15  3 11  7 13  1  5]\n",
      " [11 11 10  0 10 12  1  7  2 10  0  9 12  9  9  9]\n",
      " [ 6  8 11  1  4  3  6  4  3  7 13  5 14  8 10  6]\n",
      " [12  9  4  8  5  2  5  2  1 11 11  3  9  4  3 13]\n",
      " [13 12  1  7 14 14 13 14 12 14 14  4  5  6 15  4]\n",
      " [ 9  2  7 13  8  1 15 11  4  4  7  2 11 12  4  7]\n",
      " [ 3  3  8  0  1  9  1  6  8  9  8  1  8  5 12 12]\n",
      " [ 8 11 10  1 10 12  6  7  0 10  0  9  6  9  9  9]\n",
      " [ 4  0  3  4  6 11  4  8 11  1 12 14 12  1 11  7]\n",
      " [ 8  8  7  2  8  1 11 11  0  4  7  2  8 12  4  5]\n",
      " [ 3 13  8 13  1  9  9  6  8  9 14  1 11  5 12  4]\n",
      " [13  8  1  7 14 14 13 14 12 14  8  4  1  6 15 12]\n",
      " [ 9 13  3 14  6 11 11  8  4  1  8 14  5 10 11 11]\n",
      " [ 4  0  1 10 14 14 15  5 11  8 11 12  5  1 15 12]\n",
      " [ 8  7 14  4 13  8  4  2  4 14 15  3  6  6 14  9]\n",
      " [ 2 11  4  5  5  2  2 11 10 11 12  4  3 13  3  1]\n",
      " [ 7  0  2  8  9  7 11 14  0  4  3 11 12  4  1 13]\n",
      " [ 9 13  8 14  1  9  5 15  8 15  7  2  5  5 12 11]\n",
      " [ 5 11  7  1  8  1 15  0  4  9 14 13  1 12  4  4]\n",
      " [ 3 13 10  0  2 11 12 10  6  6 13  1  6 11  5 15]\n",
      " [14  7  9  4  0  1  3  6 10 15  7  5  7  9 11 11]\n",
      " [ 4  3  6 14  3  3  2 15 11 12  5 15  6 10  9  6]\n",
      " [13  0  8  8  7 14  4  8  8  9  2 14  3  0  8  5]\n",
      " [ 1  7 12 10  1  9 10 12  0 13  1  6 14  4  6  0]\n",
      " [10  0 11  5 12  8  9  3  9  4 12  7  5  7  4 13]\n",
      " [ 2  3  0  9  2  7 12  1 11  6 15  8  4 12  5  8]\n",
      " [14  1  4  2 11  5  4  6 10 11  3  1 15 13 13 14]\n",
      " [ 8 13  7  1  0  0 10 10  8  7 14  5  1 11 12  1]\n",
      " [13  5  2  4  8 14 15 13 12  1  0 11 12  8  0  9]\n",
      " [ 3  8 13  8 10 12  3 14  0 14  9 12  7  5 10 15]\n",
      " [ 6  1 14  3 13  2  2  7  6  3 10  0  3  6  2 11]\n",
      " [ 7  3  3 10  3  4  9  5  5  8  7 15 14 15  7  5]\n",
      " [ 4 11 10 13  5 10  6 13  9  4 11 14  4  2 11 12]\n",
      " [12  9  5  0 15  9  4  6  3  9 13  1  5  1 14  9]\n",
      " [ 5  5  8  5  7  3 10 10  0 13  2  6 15  8  8  1]\n",
      " [14 13  9  7 11  7 12  0  2  7  0  8  1 11  6  0]\n",
      " [ 8  0 12 14  1  0 15  1  6 11  3  5 12 12  8 14]\n",
      " [13  7  4  5  2  1  3 11 10 13 14 13  7 13 13  8]\n",
      " [ 4  8  8 14  5  5  9 15 12  6 15  2 12  5 11 15]\n",
      " [ 9  5 12  0  7 14  2 14  8 15  1  3 15  2 14  1]\n",
      " [12 13  0  7  8 15 10  3  9  1  2  5  1  6  1 14]\n",
      " [ 7  0  6  8  9  8 12  7  3  9  3  6  5  8  3  0]\n",
      " [10  1  7 13 10 12  4  8  4 10  5  7  6 12  5  8]\n",
      " [ 2  9  9  4 15  0  6 12  5 12 11  8  9 13  6  9]\n",
      " [ 3 11 10  0  0  1 15  1  5 14 12 11 15  1  6 12]\n",
      " [ 5  5  4  4  3  2  2  5  6  4 13 12  1  3  7 13]\n",
      " [ 6  6  5  5  4  3  3  9  8  8 14 13  4  5  8  1]\n",
      " [ 8  7  9  7  7  7  6 10  9 11  0  8  7  7  9  9]\n",
      " [ 9  8 10  8  8  9  9 11 10 12 11 11  9 10 10 12]\n",
      " [12  9 12 10  9 10 10 12 11 13 12 12 12 11 12 13]\n",
      " [13 11 13 13 13 14 12 14 12 14 13 13 14 13 13 14]\n",
      " [14 13 14 14 15 15 15 15 15 15 14 15 15 15 14 15]]\n"
     ]
    }
   ],
   "source": [
    "time_before_execution = datetime.datetime.now()\n",
    "k, coefficient_list_xi, BN_matrices_list_Ai = SER_2(Q2)\n",
    "time_after_execution = datetime.datetime.now()\n",
    "\n",
    "execution_duration = time_after_execution - time_before_execution\n",
    "\n",
    "print(execution_duration)\n",
    "print(k)\n",
    "print(coefficient_list_xi)\n",
    "print(BN_matrices_list_Ai)"
   ]
  },
  {
   "cell_type": "code",
   "execution_count": null,
   "id": "44faa6d6-4b2f-4f36-93d5-bc97ea595463",
   "metadata": {},
   "outputs": [],
   "source": []
  }
 ],
 "metadata": {
  "kernelspec": {
   "display_name": "Python 3 (ipykernel)",
   "language": "python",
   "name": "python3"
  },
  "language_info": {
   "codemirror_mode": {
    "name": "ipython",
    "version": 3
   },
   "file_extension": ".py",
   "mimetype": "text/x-python",
   "name": "python",
   "nbconvert_exporter": "python",
   "pygments_lexer": "ipython3",
   "version": "3.9.19"
  }
 },
 "nbformat": 4,
 "nbformat_minor": 5
}
